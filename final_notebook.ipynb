{
 "cells": [
  {
   "cell_type": "markdown",
   "metadata": {},
   "source": [
    "# The Zillow Data Science Team wants to predict the values of single unit properties that the tax district assesses using the property data from those with a transaction during the \"hot months\" (in terms of real estate demand) of May-August, 2017."
   ]
  },
  {
   "cell_type": "markdown",
   "metadata": {},
   "source": [
    "---"
   ]
  },
  {
   "cell_type": "markdown",
   "metadata": {},
   "source": [
    "# Planning\n",
    "- Agile Kanban: \n",
    "    - https://trello.com/b/IdNd8GPA/regression-project\n",
    "<br /> \n",
    "\n",
    "- The Zillow Data Science team would like to know:\n",
    "    - **What states and counties are these single unit properties located in?**\n",
    "    - **What is the distribution of tax rates for each county of the single unit properties?**\n",
    "\n",
    "<br />\n",
    "\n",
    "- Project Objectives:\n",
    "    - See if only the square feet of the home, number of bedrooms and number of bathrooms predict home values using the tax assessed value.\n",
    "    - Documenting process and analysis throughout the data science pipeline.\n",
    "    - Constructing a regression model that predicts home values for Zillow. \n",
    "\n",
    "<br /> \n",
    "\n",
    "**- Hypothesis:**\n",
    "- Is there a correlation between in taxvaluedollarcnt (tax_value) for homes based on which county it is in? \n",
    "- Is there a correlation between square feet of the home and its taxvaluedollarcnt (tax_value)?\n",
    "\n",
    "---"
   ]
  },
  {
   "cell_type": "markdown",
   "metadata": {},
   "source": [
    "# Acquire"
   ]
  },
  {
   "cell_type": "code",
   "execution_count": 1,
   "metadata": {},
   "outputs": [],
   "source": [
    "#Imports for the Final Notebook\n",
    "import numpy as np\n",
    "import pandas as pd\n",
    "\n",
    "import matplotlib.pyplot as plt\n",
    "import seaborn as sns\n",
    "\n",
    "# Ignore warnings\n",
    "import warnings\n",
    "warnings.filterwarnings(\"ignore\")\n",
    "\n",
    "#acquires and prepares data\n",
    "import acquire\n",
    "import prep\n",
    "import explore\n",
    "\n",
    "#split and scale functions\n",
    "from sklearn.model_selection import train_test_split\n",
    "from prep import Min_Max_Scaler\n",
    "\n",
    "#statistical testing\n",
    "from scipy import stats\n",
    "\n",
    "# evaluating/modeling methods\n",
    "import math\n",
    "from math import sqrt\n",
    "from sklearn.metrics import mean_squared_error, r2_score, explained_variance_score\n",
    "from sklearn.feature_selection import SelectKBest, f_regression\n",
    "from sklearn.feature_selection import RFE\n",
    "from sklearn.linear_model import LinearRegression, LassoLars, TweedieRegressor\n",
    "from sklearn.preprocessing import PolynomialFeatures"
   ]
  },
  {
   "cell_type": "markdown",
   "metadata": {},
   "source": [
    "---"
   ]
  },
  {
   "cell_type": "code",
   "execution_count": 2,
   "metadata": {},
   "outputs": [],
   "source": [
    "df = prep.get_zillow_data()"
   ]
  },
  {
   "cell_type": "code",
   "execution_count": 3,
   "metadata": {},
   "outputs": [
    {
     "data": {
      "text/html": [
       "<div>\n",
       "<style scoped>\n",
       "    .dataframe tbody tr th:only-of-type {\n",
       "        vertical-align: middle;\n",
       "    }\n",
       "\n",
       "    .dataframe tbody tr th {\n",
       "        vertical-align: top;\n",
       "    }\n",
       "\n",
       "    .dataframe thead th {\n",
       "        text-align: right;\n",
       "    }\n",
       "</style>\n",
       "<table border=\"1\" class=\"dataframe\">\n",
       "  <thead>\n",
       "    <tr style=\"text-align: right;\">\n",
       "      <th></th>\n",
       "      <th>parcelid</th>\n",
       "      <th>id</th>\n",
       "      <th>airconditioningtypeid</th>\n",
       "      <th>architecturalstyletypeid</th>\n",
       "      <th>basementsqft</th>\n",
       "      <th>bathroomcnt</th>\n",
       "      <th>bedroomcnt</th>\n",
       "      <th>buildingclasstypeid</th>\n",
       "      <th>buildingqualitytypeid</th>\n",
       "      <th>calculatedbathnbr</th>\n",
       "      <th>...</th>\n",
       "      <th>taxvaluedollarcnt</th>\n",
       "      <th>assessmentyear</th>\n",
       "      <th>landtaxvaluedollarcnt</th>\n",
       "      <th>taxamount</th>\n",
       "      <th>taxdelinquencyflag</th>\n",
       "      <th>taxdelinquencyyear</th>\n",
       "      <th>censustractandblock</th>\n",
       "      <th>id</th>\n",
       "      <th>logerror</th>\n",
       "      <th>transactiondate</th>\n",
       "    </tr>\n",
       "  </thead>\n",
       "  <tbody>\n",
       "    <tr>\n",
       "      <th>0</th>\n",
       "      <td>14634203</td>\n",
       "      <td>2026522</td>\n",
       "      <td>1.0</td>\n",
       "      <td>NaN</td>\n",
       "      <td>NaN</td>\n",
       "      <td>2.0</td>\n",
       "      <td>3.0</td>\n",
       "      <td>None</td>\n",
       "      <td>NaN</td>\n",
       "      <td>2.0</td>\n",
       "      <td>...</td>\n",
       "      <td>289445.0</td>\n",
       "      <td>2016.0</td>\n",
       "      <td>213516.0</td>\n",
       "      <td>3490.16</td>\n",
       "      <td>None</td>\n",
       "      <td>NaN</td>\n",
       "      <td>6.059001e+13</td>\n",
       "      <td>625</td>\n",
       "      <td>-0.061973</td>\n",
       "      <td>2017-08-04</td>\n",
       "    </tr>\n",
       "    <tr>\n",
       "      <th>1</th>\n",
       "      <td>11721753</td>\n",
       "      <td>616260</td>\n",
       "      <td>NaN</td>\n",
       "      <td>NaN</td>\n",
       "      <td>NaN</td>\n",
       "      <td>2.0</td>\n",
       "      <td>3.0</td>\n",
       "      <td>None</td>\n",
       "      <td>6.0</td>\n",
       "      <td>2.0</td>\n",
       "      <td>...</td>\n",
       "      <td>205123.0</td>\n",
       "      <td>2016.0</td>\n",
       "      <td>163175.0</td>\n",
       "      <td>2627.48</td>\n",
       "      <td>None</td>\n",
       "      <td>NaN</td>\n",
       "      <td>6.037220e+13</td>\n",
       "      <td>1018</td>\n",
       "      <td>0.017785</td>\n",
       "      <td>2017-07-21</td>\n",
       "    </tr>\n",
       "    <tr>\n",
       "      <th>2</th>\n",
       "      <td>11289917</td>\n",
       "      <td>2061546</td>\n",
       "      <td>1.0</td>\n",
       "      <td>NaN</td>\n",
       "      <td>NaN</td>\n",
       "      <td>2.0</td>\n",
       "      <td>3.0</td>\n",
       "      <td>None</td>\n",
       "      <td>6.0</td>\n",
       "      <td>2.0</td>\n",
       "      <td>...</td>\n",
       "      <td>136104.0</td>\n",
       "      <td>2016.0</td>\n",
       "      <td>27214.0</td>\n",
       "      <td>2319.90</td>\n",
       "      <td>Y</td>\n",
       "      <td>15.0</td>\n",
       "      <td>6.037901e+13</td>\n",
       "      <td>1248</td>\n",
       "      <td>-0.362001</td>\n",
       "      <td>2017-06-23</td>\n",
       "    </tr>\n",
       "    <tr>\n",
       "      <th>3</th>\n",
       "      <td>11637029</td>\n",
       "      <td>2554497</td>\n",
       "      <td>1.0</td>\n",
       "      <td>NaN</td>\n",
       "      <td>NaN</td>\n",
       "      <td>2.0</td>\n",
       "      <td>3.0</td>\n",
       "      <td>None</td>\n",
       "      <td>9.0</td>\n",
       "      <td>2.0</td>\n",
       "      <td>...</td>\n",
       "      <td>810694.0</td>\n",
       "      <td>2016.0</td>\n",
       "      <td>554156.0</td>\n",
       "      <td>9407.01</td>\n",
       "      <td>Y</td>\n",
       "      <td>13.0</td>\n",
       "      <td>6.037701e+13</td>\n",
       "      <td>1734</td>\n",
       "      <td>-0.093399</td>\n",
       "      <td>2017-07-28</td>\n",
       "    </tr>\n",
       "    <tr>\n",
       "      <th>4</th>\n",
       "      <td>11705026</td>\n",
       "      <td>1834372</td>\n",
       "      <td>NaN</td>\n",
       "      <td>NaN</td>\n",
       "      <td>NaN</td>\n",
       "      <td>1.0</td>\n",
       "      <td>2.0</td>\n",
       "      <td>None</td>\n",
       "      <td>6.0</td>\n",
       "      <td>1.0</td>\n",
       "      <td>...</td>\n",
       "      <td>35606.0</td>\n",
       "      <td>2016.0</td>\n",
       "      <td>23624.0</td>\n",
       "      <td>543.69</td>\n",
       "      <td>None</td>\n",
       "      <td>NaN</td>\n",
       "      <td>6.037232e+13</td>\n",
       "      <td>1772</td>\n",
       "      <td>-0.146056</td>\n",
       "      <td>2017-06-30</td>\n",
       "    </tr>\n",
       "  </tbody>\n",
       "</table>\n",
       "<p>5 rows × 62 columns</p>\n",
       "</div>"
      ],
      "text/plain": [
       "   parcelid       id  airconditioningtypeid  architecturalstyletypeid  \\\n",
       "0  14634203  2026522                    1.0                       NaN   \n",
       "1  11721753   616260                    NaN                       NaN   \n",
       "2  11289917  2061546                    1.0                       NaN   \n",
       "3  11637029  2554497                    1.0                       NaN   \n",
       "4  11705026  1834372                    NaN                       NaN   \n",
       "\n",
       "   basementsqft  bathroomcnt  bedroomcnt buildingclasstypeid  \\\n",
       "0           NaN          2.0         3.0                None   \n",
       "1           NaN          2.0         3.0                None   \n",
       "2           NaN          2.0         3.0                None   \n",
       "3           NaN          2.0         3.0                None   \n",
       "4           NaN          1.0         2.0                None   \n",
       "\n",
       "   buildingqualitytypeid  calculatedbathnbr  ...  taxvaluedollarcnt  \\\n",
       "0                    NaN                2.0  ...           289445.0   \n",
       "1                    6.0                2.0  ...           205123.0   \n",
       "2                    6.0                2.0  ...           136104.0   \n",
       "3                    9.0                2.0  ...           810694.0   \n",
       "4                    6.0                1.0  ...            35606.0   \n",
       "\n",
       "   assessmentyear  landtaxvaluedollarcnt  taxamount  taxdelinquencyflag  \\\n",
       "0          2016.0               213516.0    3490.16                None   \n",
       "1          2016.0               163175.0    2627.48                None   \n",
       "2          2016.0                27214.0    2319.90                   Y   \n",
       "3          2016.0               554156.0    9407.01                   Y   \n",
       "4          2016.0                23624.0     543.69                None   \n",
       "\n",
       "   taxdelinquencyyear  censustractandblock    id  logerror  transactiondate  \n",
       "0                 NaN         6.059001e+13   625 -0.061973       2017-08-04  \n",
       "1                 NaN         6.037220e+13  1018  0.017785       2017-07-21  \n",
       "2                15.0         6.037901e+13  1248 -0.362001       2017-06-23  \n",
       "3                13.0         6.037701e+13  1734 -0.093399       2017-07-28  \n",
       "4                 NaN         6.037232e+13  1772 -0.146056       2017-06-30  \n",
       "\n",
       "[5 rows x 62 columns]"
      ]
     },
     "execution_count": 3,
     "metadata": {},
     "output_type": "execute_result"
    }
   ],
   "source": [
    "df.head()"
   ]
  },
  {
   "cell_type": "code",
   "execution_count": 4,
   "metadata": {},
   "outputs": [
    {
     "name": "stdout",
     "output_type": "stream",
     "text": [
      "<class 'pandas.core.frame.DataFrame'>\n",
      "RangeIndex: 38622 entries, 0 to 38621\n",
      "Data columns (total 62 columns):\n",
      " #   Column                        Non-Null Count  Dtype  \n",
      "---  ------                        --------------  -----  \n",
      " 0   parcelid                      38622 non-null  int64  \n",
      " 1   id                            38622 non-null  int64  \n",
      " 2   airconditioningtypeid         12224 non-null  float64\n",
      " 3   architecturalstyletypeid      101 non-null    float64\n",
      " 4   basementsqft                  27 non-null     float64\n",
      " 5   bathroomcnt                   38622 non-null  float64\n",
      " 6   bedroomcnt                    38622 non-null  float64\n",
      " 7   buildingclasstypeid           0 non-null      object \n",
      " 8   buildingqualitytypeid         23706 non-null  float64\n",
      " 9   calculatedbathnbr             38463 non-null  float64\n",
      " 10  decktypeid                    333 non-null    float64\n",
      " 11  finishedfloor1squarefeet      3339 non-null   float64\n",
      " 12  calculatedfinishedsquarefeet  38509 non-null  float64\n",
      " 13  finishedsquarefeet12          38394 non-null  float64\n",
      " 14  finishedsquarefeet13          31 non-null     float64\n",
      " 15  finishedsquarefeet15          4 non-null      float64\n",
      " 16  finishedsquarefeet50          3339 non-null   float64\n",
      " 17  finishedsquarefeet6           80 non-null     float64\n",
      " 18  fips                          38622 non-null  float64\n",
      " 19  fireplacecnt                  4653 non-null   float64\n",
      " 20  fullbathcnt                   38463 non-null  float64\n",
      " 21  garagecarcnt                  13919 non-null  float64\n",
      " 22  garagetotalsqft               13919 non-null  float64\n",
      " 23  hashottuborspa                889 non-null    float64\n",
      " 24  heatingorsystemtypeid         24613 non-null  float64\n",
      " 25  latitude                      38622 non-null  float64\n",
      " 26  longitude                     38622 non-null  float64\n",
      " 27  lotsizesquarefeet             34255 non-null  float64\n",
      " 28  poolcnt                       8594 non-null   float64\n",
      " 29  poolsizesum                   496 non-null    float64\n",
      " 30  pooltypeid10                  250 non-null    float64\n",
      " 31  pooltypeid2                   639 non-null    float64\n",
      " 32  pooltypeid7                   7946 non-null   float64\n",
      " 33  propertycountylandusecode     38622 non-null  object \n",
      " 34  propertylandusetypeid         38622 non-null  float64\n",
      " 35  propertyzoningdesc            23958 non-null  object \n",
      " 36  rawcensustractandblock        38622 non-null  float64\n",
      " 37  regionidcity                  37899 non-null  float64\n",
      " 38  regionidcounty                38622 non-null  float64\n",
      " 39  regionidneighborhood          15167 non-null  float64\n",
      " 40  regionidzip                   38595 non-null  float64\n",
      " 41  roomcnt                       38622 non-null  float64\n",
      " 42  storytypeid                   27 non-null     float64\n",
      " 43  threequarterbathnbr           5584 non-null   float64\n",
      " 44  typeconstructiontypeid        111 non-null    float64\n",
      " 45  unitcnt                       23907 non-null  float64\n",
      " 46  yardbuildingsqft17            1367 non-null   float64\n",
      " 47  yardbuildingsqft26            48 non-null     float64\n",
      " 48  yearbuilt                     38486 non-null  float64\n",
      " 49  numberofstories               9515 non-null   float64\n",
      " 50  fireplaceflag                 84 non-null     float64\n",
      " 51  structuretaxvaluedollarcnt    38570 non-null  float64\n",
      " 52  taxvaluedollarcnt             38621 non-null  float64\n",
      " 53  assessmentyear                38622 non-null  float64\n",
      " 54  landtaxvaluedollarcnt         38621 non-null  float64\n",
      " 55  taxamount                     38621 non-null  float64\n",
      " 56  taxdelinquencyflag            1268 non-null   object \n",
      " 57  taxdelinquencyyear            1268 non-null   float64\n",
      " 58  censustractandblock           38478 non-null  float64\n",
      " 59  id                            38622 non-null  int64  \n",
      " 60  logerror                      38622 non-null  float64\n",
      " 61  transactiondate               38622 non-null  object \n",
      "dtypes: float64(54), int64(3), object(5)\n",
      "memory usage: 18.3+ MB\n"
     ]
    }
   ],
   "source": [
    "df.info()"
   ]
  },
  {
   "cell_type": "code",
   "execution_count": 5,
   "metadata": {},
   "outputs": [
    {
     "data": {
      "text/html": [
       "<div>\n",
       "<style scoped>\n",
       "    .dataframe tbody tr th:only-of-type {\n",
       "        vertical-align: middle;\n",
       "    }\n",
       "\n",
       "    .dataframe tbody tr th {\n",
       "        vertical-align: top;\n",
       "    }\n",
       "\n",
       "    .dataframe thead th {\n",
       "        text-align: right;\n",
       "    }\n",
       "</style>\n",
       "<table border=\"1\" class=\"dataframe\">\n",
       "  <thead>\n",
       "    <tr style=\"text-align: right;\">\n",
       "      <th></th>\n",
       "      <th>count</th>\n",
       "      <th>mean</th>\n",
       "      <th>std</th>\n",
       "      <th>min</th>\n",
       "      <th>25%</th>\n",
       "      <th>50%</th>\n",
       "      <th>75%</th>\n",
       "      <th>max</th>\n",
       "    </tr>\n",
       "  </thead>\n",
       "  <tbody>\n",
       "    <tr>\n",
       "      <th>parcelid</th>\n",
       "      <td>38622.0</td>\n",
       "      <td>1.310495e+07</td>\n",
       "      <td>3.700741e+06</td>\n",
       "      <td>1.071186e+07</td>\n",
       "      <td>1.154805e+07</td>\n",
       "      <td>1.260418e+07</td>\n",
       "      <td>1.429905e+07</td>\n",
       "      <td>1.676878e+08</td>\n",
       "    </tr>\n",
       "    <tr>\n",
       "      <th>id</th>\n",
       "      <td>38622.0</td>\n",
       "      <td>1.500394e+06</td>\n",
       "      <td>8.591808e+05</td>\n",
       "      <td>3.490000e+02</td>\n",
       "      <td>7.599932e+05</td>\n",
       "      <td>1.507182e+06</td>\n",
       "      <td>2.242966e+06</td>\n",
       "      <td>2.982274e+06</td>\n",
       "    </tr>\n",
       "    <tr>\n",
       "      <th>airconditioningtypeid</th>\n",
       "      <td>12224.0</td>\n",
       "      <td>1.900196e+00</td>\n",
       "      <td>3.112632e+00</td>\n",
       "      <td>1.000000e+00</td>\n",
       "      <td>1.000000e+00</td>\n",
       "      <td>1.000000e+00</td>\n",
       "      <td>1.000000e+00</td>\n",
       "      <td>1.300000e+01</td>\n",
       "    </tr>\n",
       "    <tr>\n",
       "      <th>architecturalstyletypeid</th>\n",
       "      <td>101.0</td>\n",
       "      <td>7.564356e+00</td>\n",
       "      <td>3.232386e+00</td>\n",
       "      <td>2.000000e+00</td>\n",
       "      <td>7.000000e+00</td>\n",
       "      <td>7.000000e+00</td>\n",
       "      <td>7.000000e+00</td>\n",
       "      <td>2.100000e+01</td>\n",
       "    </tr>\n",
       "    <tr>\n",
       "      <th>basementsqft</th>\n",
       "      <td>27.0</td>\n",
       "      <td>6.397037e+02</td>\n",
       "      <td>4.459779e+02</td>\n",
       "      <td>1.000000e+02</td>\n",
       "      <td>3.490000e+02</td>\n",
       "      <td>6.040000e+02</td>\n",
       "      <td>7.430000e+02</td>\n",
       "      <td>1.969000e+03</td>\n",
       "    </tr>\n",
       "    <tr>\n",
       "      <th>bathroomcnt</th>\n",
       "      <td>38622.0</td>\n",
       "      <td>2.273743e+00</td>\n",
       "      <td>9.505879e-01</td>\n",
       "      <td>0.000000e+00</td>\n",
       "      <td>2.000000e+00</td>\n",
       "      <td>2.000000e+00</td>\n",
       "      <td>3.000000e+00</td>\n",
       "      <td>1.100000e+01</td>\n",
       "    </tr>\n",
       "    <tr>\n",
       "      <th>bedroomcnt</th>\n",
       "      <td>38622.0</td>\n",
       "      <td>3.010512e+00</td>\n",
       "      <td>1.029506e+00</td>\n",
       "      <td>0.000000e+00</td>\n",
       "      <td>2.000000e+00</td>\n",
       "      <td>3.000000e+00</td>\n",
       "      <td>4.000000e+00</td>\n",
       "      <td>1.200000e+01</td>\n",
       "    </tr>\n",
       "    <tr>\n",
       "      <th>buildingqualitytypeid</th>\n",
       "      <td>23706.0</td>\n",
       "      <td>6.610394e+00</td>\n",
       "      <td>1.694360e+00</td>\n",
       "      <td>1.000000e+00</td>\n",
       "      <td>6.000000e+00</td>\n",
       "      <td>7.000000e+00</td>\n",
       "      <td>8.000000e+00</td>\n",
       "      <td>1.200000e+01</td>\n",
       "    </tr>\n",
       "    <tr>\n",
       "      <th>calculatedbathnbr</th>\n",
       "      <td>38463.0</td>\n",
       "      <td>2.282739e+00</td>\n",
       "      <td>9.417021e-01</td>\n",
       "      <td>1.000000e+00</td>\n",
       "      <td>2.000000e+00</td>\n",
       "      <td>2.000000e+00</td>\n",
       "      <td>3.000000e+00</td>\n",
       "      <td>1.100000e+01</td>\n",
       "    </tr>\n",
       "    <tr>\n",
       "      <th>decktypeid</th>\n",
       "      <td>333.0</td>\n",
       "      <td>6.600000e+01</td>\n",
       "      <td>0.000000e+00</td>\n",
       "      <td>6.600000e+01</td>\n",
       "      <td>6.600000e+01</td>\n",
       "      <td>6.600000e+01</td>\n",
       "      <td>6.600000e+01</td>\n",
       "      <td>6.600000e+01</td>\n",
       "    </tr>\n",
       "    <tr>\n",
       "      <th>finishedfloor1squarefeet</th>\n",
       "      <td>3339.0</td>\n",
       "      <td>1.362423e+03</td>\n",
       "      <td>6.423983e+02</td>\n",
       "      <td>4.700000e+01</td>\n",
       "      <td>9.665000e+02</td>\n",
       "      <td>1.263000e+03</td>\n",
       "      <td>1.617500e+03</td>\n",
       "      <td>6.743000e+03</td>\n",
       "    </tr>\n",
       "    <tr>\n",
       "      <th>calculatedfinishedsquarefeet</th>\n",
       "      <td>38509.0</td>\n",
       "      <td>1.762747e+03</td>\n",
       "      <td>9.283003e+02</td>\n",
       "      <td>2.400000e+02</td>\n",
       "      <td>1.174000e+03</td>\n",
       "      <td>1.525000e+03</td>\n",
       "      <td>2.082000e+03</td>\n",
       "      <td>1.724500e+04</td>\n",
       "    </tr>\n",
       "    <tr>\n",
       "      <th>finishedsquarefeet12</th>\n",
       "      <td>38394.0</td>\n",
       "      <td>1.764301e+03</td>\n",
       "      <td>9.286625e+02</td>\n",
       "      <td>2.400000e+02</td>\n",
       "      <td>1.174250e+03</td>\n",
       "      <td>1.526000e+03</td>\n",
       "      <td>2.084000e+03</td>\n",
       "      <td>1.724500e+04</td>\n",
       "    </tr>\n",
       "    <tr>\n",
       "      <th>finishedsquarefeet13</th>\n",
       "      <td>31.0</td>\n",
       "      <td>1.386065e+03</td>\n",
       "      <td>1.307328e+02</td>\n",
       "      <td>1.056000e+03</td>\n",
       "      <td>1.344000e+03</td>\n",
       "      <td>1.440000e+03</td>\n",
       "      <td>1.440000e+03</td>\n",
       "      <td>1.560000e+03</td>\n",
       "    </tr>\n",
       "    <tr>\n",
       "      <th>finishedsquarefeet15</th>\n",
       "      <td>4.0</td>\n",
       "      <td>7.835000e+02</td>\n",
       "      <td>2.737608e+02</td>\n",
       "      <td>6.000000e+02</td>\n",
       "      <td>6.060000e+02</td>\n",
       "      <td>6.760000e+02</td>\n",
       "      <td>8.535000e+02</td>\n",
       "      <td>1.182000e+03</td>\n",
       "    </tr>\n",
       "    <tr>\n",
       "      <th>finishedsquarefeet50</th>\n",
       "      <td>3339.0</td>\n",
       "      <td>1.374163e+03</td>\n",
       "      <td>6.704324e+02</td>\n",
       "      <td>4.700000e+01</td>\n",
       "      <td>9.680000e+02</td>\n",
       "      <td>1.264000e+03</td>\n",
       "      <td>1.623000e+03</td>\n",
       "      <td>6.743000e+03</td>\n",
       "    </tr>\n",
       "    <tr>\n",
       "      <th>finishedsquarefeet6</th>\n",
       "      <td>80.0</td>\n",
       "      <td>1.211862e+03</td>\n",
       "      <td>7.109933e+02</td>\n",
       "      <td>3.800000e+02</td>\n",
       "      <td>8.002500e+02</td>\n",
       "      <td>1.044500e+03</td>\n",
       "      <td>1.303000e+03</td>\n",
       "      <td>4.184000e+03</td>\n",
       "    </tr>\n",
       "    <tr>\n",
       "      <th>fips</th>\n",
       "      <td>38622.0</td>\n",
       "      <td>6.049916e+03</td>\n",
       "      <td>2.142381e+01</td>\n",
       "      <td>6.037000e+03</td>\n",
       "      <td>6.037000e+03</td>\n",
       "      <td>6.037000e+03</td>\n",
       "      <td>6.059000e+03</td>\n",
       "      <td>6.111000e+03</td>\n",
       "    </tr>\n",
       "    <tr>\n",
       "      <th>fireplacecnt</th>\n",
       "      <td>4653.0</td>\n",
       "      <td>1.189340e+00</td>\n",
       "      <td>4.809776e-01</td>\n",
       "      <td>1.000000e+00</td>\n",
       "      <td>1.000000e+00</td>\n",
       "      <td>1.000000e+00</td>\n",
       "      <td>1.000000e+00</td>\n",
       "      <td>4.000000e+00</td>\n",
       "    </tr>\n",
       "    <tr>\n",
       "      <th>fullbathcnt</th>\n",
       "      <td>38463.0</td>\n",
       "      <td>2.209448e+00</td>\n",
       "      <td>9.232506e-01</td>\n",
       "      <td>1.000000e+00</td>\n",
       "      <td>2.000000e+00</td>\n",
       "      <td>2.000000e+00</td>\n",
       "      <td>3.000000e+00</td>\n",
       "      <td>1.100000e+01</td>\n",
       "    </tr>\n",
       "    <tr>\n",
       "      <th>garagecarcnt</th>\n",
       "      <td>13919.0</td>\n",
       "      <td>1.830879e+00</td>\n",
       "      <td>5.799921e-01</td>\n",
       "      <td>0.000000e+00</td>\n",
       "      <td>2.000000e+00</td>\n",
       "      <td>2.000000e+00</td>\n",
       "      <td>2.000000e+00</td>\n",
       "      <td>1.400000e+01</td>\n",
       "    </tr>\n",
       "    <tr>\n",
       "      <th>garagetotalsqft</th>\n",
       "      <td>13919.0</td>\n",
       "      <td>3.552412e+02</td>\n",
       "      <td>2.627301e+02</td>\n",
       "      <td>0.000000e+00</td>\n",
       "      <td>0.000000e+00</td>\n",
       "      <td>4.370000e+02</td>\n",
       "      <td>4.950000e+02</td>\n",
       "      <td>4.251000e+03</td>\n",
       "    </tr>\n",
       "    <tr>\n",
       "      <th>hashottuborspa</th>\n",
       "      <td>889.0</td>\n",
       "      <td>1.000000e+00</td>\n",
       "      <td>0.000000e+00</td>\n",
       "      <td>1.000000e+00</td>\n",
       "      <td>1.000000e+00</td>\n",
       "      <td>1.000000e+00</td>\n",
       "      <td>1.000000e+00</td>\n",
       "      <td>1.000000e+00</td>\n",
       "    </tr>\n",
       "    <tr>\n",
       "      <th>heatingorsystemtypeid</th>\n",
       "      <td>24613.0</td>\n",
       "      <td>3.921911e+00</td>\n",
       "      <td>3.634989e+00</td>\n",
       "      <td>1.000000e+00</td>\n",
       "      <td>2.000000e+00</td>\n",
       "      <td>2.000000e+00</td>\n",
       "      <td>7.000000e+00</td>\n",
       "      <td>2.400000e+01</td>\n",
       "    </tr>\n",
       "    <tr>\n",
       "      <th>latitude</th>\n",
       "      <td>38622.0</td>\n",
       "      <td>3.400306e+07</td>\n",
       "      <td>2.698064e+05</td>\n",
       "      <td>3.333960e+07</td>\n",
       "      <td>3.380011e+07</td>\n",
       "      <td>3.401769e+07</td>\n",
       "      <td>3.417747e+07</td>\n",
       "      <td>3.481877e+07</td>\n",
       "    </tr>\n",
       "    <tr>\n",
       "      <th>longitude</th>\n",
       "      <td>38622.0</td>\n",
       "      <td>-1.182007e+08</td>\n",
       "      <td>3.690697e+05</td>\n",
       "      <td>-1.194484e+08</td>\n",
       "      <td>-1.184230e+08</td>\n",
       "      <td>-1.181699e+08</td>\n",
       "      <td>-1.179121e+08</td>\n",
       "      <td>-1.175554e+08</td>\n",
       "    </tr>\n",
       "    <tr>\n",
       "      <th>lotsizesquarefeet</th>\n",
       "      <td>34255.0</td>\n",
       "      <td>2.962043e+04</td>\n",
       "      <td>1.128263e+05</td>\n",
       "      <td>2.360000e+02</td>\n",
       "      <td>5.810000e+03</td>\n",
       "      <td>7.300000e+03</td>\n",
       "      <td>1.209950e+04</td>\n",
       "      <td>6.971010e+06</td>\n",
       "    </tr>\n",
       "    <tr>\n",
       "      <th>poolcnt</th>\n",
       "      <td>8594.0</td>\n",
       "      <td>1.000000e+00</td>\n",
       "      <td>0.000000e+00</td>\n",
       "      <td>1.000000e+00</td>\n",
       "      <td>1.000000e+00</td>\n",
       "      <td>1.000000e+00</td>\n",
       "      <td>1.000000e+00</td>\n",
       "      <td>1.000000e+00</td>\n",
       "    </tr>\n",
       "    <tr>\n",
       "      <th>poolsizesum</th>\n",
       "      <td>496.0</td>\n",
       "      <td>5.252339e+02</td>\n",
       "      <td>1.522497e+02</td>\n",
       "      <td>1.050000e+02</td>\n",
       "      <td>4.342500e+02</td>\n",
       "      <td>5.000000e+02</td>\n",
       "      <td>6.000000e+02</td>\n",
       "      <td>1.364000e+03</td>\n",
       "    </tr>\n",
       "    <tr>\n",
       "      <th>pooltypeid10</th>\n",
       "      <td>250.0</td>\n",
       "      <td>1.000000e+00</td>\n",
       "      <td>0.000000e+00</td>\n",
       "      <td>1.000000e+00</td>\n",
       "      <td>1.000000e+00</td>\n",
       "      <td>1.000000e+00</td>\n",
       "      <td>1.000000e+00</td>\n",
       "      <td>1.000000e+00</td>\n",
       "    </tr>\n",
       "    <tr>\n",
       "      <th>pooltypeid2</th>\n",
       "      <td>639.0</td>\n",
       "      <td>1.000000e+00</td>\n",
       "      <td>0.000000e+00</td>\n",
       "      <td>1.000000e+00</td>\n",
       "      <td>1.000000e+00</td>\n",
       "      <td>1.000000e+00</td>\n",
       "      <td>1.000000e+00</td>\n",
       "      <td>1.000000e+00</td>\n",
       "    </tr>\n",
       "    <tr>\n",
       "      <th>pooltypeid7</th>\n",
       "      <td>7946.0</td>\n",
       "      <td>1.000000e+00</td>\n",
       "      <td>0.000000e+00</td>\n",
       "      <td>1.000000e+00</td>\n",
       "      <td>1.000000e+00</td>\n",
       "      <td>1.000000e+00</td>\n",
       "      <td>1.000000e+00</td>\n",
       "      <td>1.000000e+00</td>\n",
       "    </tr>\n",
       "    <tr>\n",
       "      <th>propertylandusetypeid</th>\n",
       "      <td>38622.0</td>\n",
       "      <td>2.623571e+02</td>\n",
       "      <td>2.247890e+00</td>\n",
       "      <td>2.600000e+02</td>\n",
       "      <td>2.610000e+02</td>\n",
       "      <td>2.610000e+02</td>\n",
       "      <td>2.660000e+02</td>\n",
       "      <td>2.750000e+02</td>\n",
       "    </tr>\n",
       "    <tr>\n",
       "      <th>rawcensustractandblock</th>\n",
       "      <td>38622.0</td>\n",
       "      <td>6.050212e+07</td>\n",
       "      <td>2.126519e+05</td>\n",
       "      <td>6.037101e+07</td>\n",
       "      <td>6.037400e+07</td>\n",
       "      <td>6.037651e+07</td>\n",
       "      <td>6.059052e+07</td>\n",
       "      <td>6.111009e+07</td>\n",
       "    </tr>\n",
       "    <tr>\n",
       "      <th>regionidcity</th>\n",
       "      <td>37899.0</td>\n",
       "      <td>3.317820e+04</td>\n",
       "      <td>4.502417e+04</td>\n",
       "      <td>3.491000e+03</td>\n",
       "      <td>1.244700e+04</td>\n",
       "      <td>2.521800e+04</td>\n",
       "      <td>4.545700e+04</td>\n",
       "      <td>3.965560e+05</td>\n",
       "    </tr>\n",
       "    <tr>\n",
       "      <th>regionidcounty</th>\n",
       "      <td>38622.0</td>\n",
       "      <td>2.485106e+03</td>\n",
       "      <td>8.166885e+02</td>\n",
       "      <td>1.286000e+03</td>\n",
       "      <td>1.286000e+03</td>\n",
       "      <td>3.101000e+03</td>\n",
       "      <td>3.101000e+03</td>\n",
       "      <td>3.101000e+03</td>\n",
       "    </tr>\n",
       "    <tr>\n",
       "      <th>regionidneighborhood</th>\n",
       "      <td>15167.0</td>\n",
       "      <td>1.854671e+05</td>\n",
       "      <td>1.643874e+05</td>\n",
       "      <td>6.952000e+03</td>\n",
       "      <td>4.146600e+04</td>\n",
       "      <td>1.182080e+05</td>\n",
       "      <td>2.747650e+05</td>\n",
       "      <td>7.641660e+05</td>\n",
       "    </tr>\n",
       "    <tr>\n",
       "      <th>regionidzip</th>\n",
       "      <td>38595.0</td>\n",
       "      <td>9.662583e+04</td>\n",
       "      <td>4.383139e+03</td>\n",
       "      <td>9.598200e+04</td>\n",
       "      <td>9.621000e+04</td>\n",
       "      <td>9.641100e+04</td>\n",
       "      <td>9.699000e+04</td>\n",
       "      <td>3.996750e+05</td>\n",
       "    </tr>\n",
       "    <tr>\n",
       "      <th>roomcnt</th>\n",
       "      <td>38622.0</td>\n",
       "      <td>1.628864e+00</td>\n",
       "      <td>2.931019e+00</td>\n",
       "      <td>0.000000e+00</td>\n",
       "      <td>0.000000e+00</td>\n",
       "      <td>0.000000e+00</td>\n",
       "      <td>0.000000e+00</td>\n",
       "      <td>1.500000e+01</td>\n",
       "    </tr>\n",
       "    <tr>\n",
       "      <th>storytypeid</th>\n",
       "      <td>27.0</td>\n",
       "      <td>7.000000e+00</td>\n",
       "      <td>0.000000e+00</td>\n",
       "      <td>7.000000e+00</td>\n",
       "      <td>7.000000e+00</td>\n",
       "      <td>7.000000e+00</td>\n",
       "      <td>7.000000e+00</td>\n",
       "      <td>7.000000e+00</td>\n",
       "    </tr>\n",
       "    <tr>\n",
       "      <th>threequarterbathnbr</th>\n",
       "      <td>5584.0</td>\n",
       "      <td>1.009670e+00</td>\n",
       "      <td>1.066294e-01</td>\n",
       "      <td>1.000000e+00</td>\n",
       "      <td>1.000000e+00</td>\n",
       "      <td>1.000000e+00</td>\n",
       "      <td>1.000000e+00</td>\n",
       "      <td>3.000000e+00</td>\n",
       "    </tr>\n",
       "    <tr>\n",
       "      <th>typeconstructiontypeid</th>\n",
       "      <td>111.0</td>\n",
       "      <td>6.018018e+00</td>\n",
       "      <td>4.260171e-01</td>\n",
       "      <td>4.000000e+00</td>\n",
       "      <td>6.000000e+00</td>\n",
       "      <td>6.000000e+00</td>\n",
       "      <td>6.000000e+00</td>\n",
       "      <td>1.000000e+01</td>\n",
       "    </tr>\n",
       "    <tr>\n",
       "      <th>unitcnt</th>\n",
       "      <td>23907.0</td>\n",
       "      <td>1.001380e+00</td>\n",
       "      <td>4.706497e-02</td>\n",
       "      <td>1.000000e+00</td>\n",
       "      <td>1.000000e+00</td>\n",
       "      <td>1.000000e+00</td>\n",
       "      <td>1.000000e+00</td>\n",
       "      <td>4.000000e+00</td>\n",
       "    </tr>\n",
       "    <tr>\n",
       "      <th>yardbuildingsqft17</th>\n",
       "      <td>1367.0</td>\n",
       "      <td>3.027579e+02</td>\n",
       "      <td>2.265768e+02</td>\n",
       "      <td>1.100000e+01</td>\n",
       "      <td>1.775000e+02</td>\n",
       "      <td>2.480000e+02</td>\n",
       "      <td>3.600000e+02</td>\n",
       "      <td>3.011000e+03</td>\n",
       "    </tr>\n",
       "    <tr>\n",
       "      <th>yardbuildingsqft26</th>\n",
       "      <td>48.0</td>\n",
       "      <td>2.101458e+02</td>\n",
       "      <td>1.611079e+02</td>\n",
       "      <td>1.600000e+01</td>\n",
       "      <td>7.175000e+01</td>\n",
       "      <td>1.770000e+02</td>\n",
       "      <td>3.050000e+02</td>\n",
       "      <td>6.480000e+02</td>\n",
       "    </tr>\n",
       "    <tr>\n",
       "      <th>yearbuilt</th>\n",
       "      <td>38486.0</td>\n",
       "      <td>1.969514e+03</td>\n",
       "      <td>2.305578e+01</td>\n",
       "      <td>1.878000e+03</td>\n",
       "      <td>1.954000e+03</td>\n",
       "      <td>1.971000e+03</td>\n",
       "      <td>1.987000e+03</td>\n",
       "      <td>2.016000e+03</td>\n",
       "    </tr>\n",
       "    <tr>\n",
       "      <th>numberofstories</th>\n",
       "      <td>9515.0</td>\n",
       "      <td>1.432055e+00</td>\n",
       "      <td>5.418014e-01</td>\n",
       "      <td>1.000000e+00</td>\n",
       "      <td>1.000000e+00</td>\n",
       "      <td>1.000000e+00</td>\n",
       "      <td>2.000000e+00</td>\n",
       "      <td>6.000000e+00</td>\n",
       "    </tr>\n",
       "    <tr>\n",
       "      <th>fireplaceflag</th>\n",
       "      <td>84.0</td>\n",
       "      <td>1.000000e+00</td>\n",
       "      <td>0.000000e+00</td>\n",
       "      <td>1.000000e+00</td>\n",
       "      <td>1.000000e+00</td>\n",
       "      <td>1.000000e+00</td>\n",
       "      <td>1.000000e+00</td>\n",
       "      <td>1.000000e+00</td>\n",
       "    </tr>\n",
       "    <tr>\n",
       "      <th>structuretaxvaluedollarcnt</th>\n",
       "      <td>38570.0</td>\n",
       "      <td>1.907161e+05</td>\n",
       "      <td>2.384221e+05</td>\n",
       "      <td>1.290000e+02</td>\n",
       "      <td>8.451250e+04</td>\n",
       "      <td>1.369250e+05</td>\n",
       "      <td>2.199940e+05</td>\n",
       "      <td>1.142179e+07</td>\n",
       "    </tr>\n",
       "    <tr>\n",
       "      <th>taxvaluedollarcnt</th>\n",
       "      <td>38621.0</td>\n",
       "      <td>4.965779e+05</td>\n",
       "      <td>6.326909e+05</td>\n",
       "      <td>1.000000e+03</td>\n",
       "      <td>2.090510e+05</td>\n",
       "      <td>3.635160e+05</td>\n",
       "      <td>5.778040e+05</td>\n",
       "      <td>2.385837e+07</td>\n",
       "    </tr>\n",
       "    <tr>\n",
       "      <th>assessmentyear</th>\n",
       "      <td>38622.0</td>\n",
       "      <td>2.016000e+03</td>\n",
       "      <td>0.000000e+00</td>\n",
       "      <td>2.016000e+03</td>\n",
       "      <td>2.016000e+03</td>\n",
       "      <td>2.016000e+03</td>\n",
       "      <td>2.016000e+03</td>\n",
       "      <td>2.016000e+03</td>\n",
       "    </tr>\n",
       "    <tr>\n",
       "      <th>landtaxvaluedollarcnt</th>\n",
       "      <td>38621.0</td>\n",
       "      <td>3.061136e+05</td>\n",
       "      <td>4.583442e+05</td>\n",
       "      <td>1.000000e+03</td>\n",
       "      <td>8.702300e+04</td>\n",
       "      <td>2.080000e+05</td>\n",
       "      <td>3.761050e+05</td>\n",
       "      <td>1.635060e+07</td>\n",
       "    </tr>\n",
       "    <tr>\n",
       "      <th>taxamount</th>\n",
       "      <td>38621.0</td>\n",
       "      <td>6.042954e+03</td>\n",
       "      <td>7.366777e+03</td>\n",
       "      <td>1.992000e+01</td>\n",
       "      <td>2.720440e+03</td>\n",
       "      <td>4.464540e+03</td>\n",
       "      <td>6.984240e+03</td>\n",
       "      <td>2.767978e+05</td>\n",
       "    </tr>\n",
       "    <tr>\n",
       "      <th>taxdelinquencyyear</th>\n",
       "      <td>1268.0</td>\n",
       "      <td>1.407098e+01</td>\n",
       "      <td>1.482764e+00</td>\n",
       "      <td>7.000000e+00</td>\n",
       "      <td>1.400000e+01</td>\n",
       "      <td>1.500000e+01</td>\n",
       "      <td>1.500000e+01</td>\n",
       "      <td>1.500000e+01</td>\n",
       "    </tr>\n",
       "    <tr>\n",
       "      <th>censustractandblock</th>\n",
       "      <td>38478.0</td>\n",
       "      <td>6.050206e+13</td>\n",
       "      <td>2.126099e+11</td>\n",
       "      <td>6.037101e+13</td>\n",
       "      <td>6.037400e+13</td>\n",
       "      <td>6.037651e+13</td>\n",
       "      <td>6.059052e+13</td>\n",
       "      <td>6.111009e+13</td>\n",
       "    </tr>\n",
       "    <tr>\n",
       "      <th>id</th>\n",
       "      <td>38622.0</td>\n",
       "      <td>5.211693e+04</td>\n",
       "      <td>1.204677e+04</td>\n",
       "      <td>6.250000e+02</td>\n",
       "      <td>4.183625e+04</td>\n",
       "      <td>5.215650e+04</td>\n",
       "      <td>6.249575e+04</td>\n",
       "      <td>7.284400e+04</td>\n",
       "    </tr>\n",
       "    <tr>\n",
       "      <th>logerror</th>\n",
       "      <td>38622.0</td>\n",
       "      <td>1.591660e-02</td>\n",
       "      <td>1.721501e-01</td>\n",
       "      <td>-4.453964e+00</td>\n",
       "      <td>-2.343256e-02</td>\n",
       "      <td>6.802288e-03</td>\n",
       "      <td>3.760526e-02</td>\n",
       "      <td>3.175688e+00</td>\n",
       "    </tr>\n",
       "  </tbody>\n",
       "</table>\n",
       "</div>"
      ],
      "text/plain": [
       "                                count          mean           std  \\\n",
       "parcelid                      38622.0  1.310495e+07  3.700741e+06   \n",
       "id                            38622.0  1.500394e+06  8.591808e+05   \n",
       "airconditioningtypeid         12224.0  1.900196e+00  3.112632e+00   \n",
       "architecturalstyletypeid        101.0  7.564356e+00  3.232386e+00   \n",
       "basementsqft                     27.0  6.397037e+02  4.459779e+02   \n",
       "bathroomcnt                   38622.0  2.273743e+00  9.505879e-01   \n",
       "bedroomcnt                    38622.0  3.010512e+00  1.029506e+00   \n",
       "buildingqualitytypeid         23706.0  6.610394e+00  1.694360e+00   \n",
       "calculatedbathnbr             38463.0  2.282739e+00  9.417021e-01   \n",
       "decktypeid                      333.0  6.600000e+01  0.000000e+00   \n",
       "finishedfloor1squarefeet       3339.0  1.362423e+03  6.423983e+02   \n",
       "calculatedfinishedsquarefeet  38509.0  1.762747e+03  9.283003e+02   \n",
       "finishedsquarefeet12          38394.0  1.764301e+03  9.286625e+02   \n",
       "finishedsquarefeet13             31.0  1.386065e+03  1.307328e+02   \n",
       "finishedsquarefeet15              4.0  7.835000e+02  2.737608e+02   \n",
       "finishedsquarefeet50           3339.0  1.374163e+03  6.704324e+02   \n",
       "finishedsquarefeet6              80.0  1.211862e+03  7.109933e+02   \n",
       "fips                          38622.0  6.049916e+03  2.142381e+01   \n",
       "fireplacecnt                   4653.0  1.189340e+00  4.809776e-01   \n",
       "fullbathcnt                   38463.0  2.209448e+00  9.232506e-01   \n",
       "garagecarcnt                  13919.0  1.830879e+00  5.799921e-01   \n",
       "garagetotalsqft               13919.0  3.552412e+02  2.627301e+02   \n",
       "hashottuborspa                  889.0  1.000000e+00  0.000000e+00   \n",
       "heatingorsystemtypeid         24613.0  3.921911e+00  3.634989e+00   \n",
       "latitude                      38622.0  3.400306e+07  2.698064e+05   \n",
       "longitude                     38622.0 -1.182007e+08  3.690697e+05   \n",
       "lotsizesquarefeet             34255.0  2.962043e+04  1.128263e+05   \n",
       "poolcnt                        8594.0  1.000000e+00  0.000000e+00   \n",
       "poolsizesum                     496.0  5.252339e+02  1.522497e+02   \n",
       "pooltypeid10                    250.0  1.000000e+00  0.000000e+00   \n",
       "pooltypeid2                     639.0  1.000000e+00  0.000000e+00   \n",
       "pooltypeid7                    7946.0  1.000000e+00  0.000000e+00   \n",
       "propertylandusetypeid         38622.0  2.623571e+02  2.247890e+00   \n",
       "rawcensustractandblock        38622.0  6.050212e+07  2.126519e+05   \n",
       "regionidcity                  37899.0  3.317820e+04  4.502417e+04   \n",
       "regionidcounty                38622.0  2.485106e+03  8.166885e+02   \n",
       "regionidneighborhood          15167.0  1.854671e+05  1.643874e+05   \n",
       "regionidzip                   38595.0  9.662583e+04  4.383139e+03   \n",
       "roomcnt                       38622.0  1.628864e+00  2.931019e+00   \n",
       "storytypeid                      27.0  7.000000e+00  0.000000e+00   \n",
       "threequarterbathnbr            5584.0  1.009670e+00  1.066294e-01   \n",
       "typeconstructiontypeid          111.0  6.018018e+00  4.260171e-01   \n",
       "unitcnt                       23907.0  1.001380e+00  4.706497e-02   \n",
       "yardbuildingsqft17             1367.0  3.027579e+02  2.265768e+02   \n",
       "yardbuildingsqft26               48.0  2.101458e+02  1.611079e+02   \n",
       "yearbuilt                     38486.0  1.969514e+03  2.305578e+01   \n",
       "numberofstories                9515.0  1.432055e+00  5.418014e-01   \n",
       "fireplaceflag                    84.0  1.000000e+00  0.000000e+00   \n",
       "structuretaxvaluedollarcnt    38570.0  1.907161e+05  2.384221e+05   \n",
       "taxvaluedollarcnt             38621.0  4.965779e+05  6.326909e+05   \n",
       "assessmentyear                38622.0  2.016000e+03  0.000000e+00   \n",
       "landtaxvaluedollarcnt         38621.0  3.061136e+05  4.583442e+05   \n",
       "taxamount                     38621.0  6.042954e+03  7.366777e+03   \n",
       "taxdelinquencyyear             1268.0  1.407098e+01  1.482764e+00   \n",
       "censustractandblock           38478.0  6.050206e+13  2.126099e+11   \n",
       "id                            38622.0  5.211693e+04  1.204677e+04   \n",
       "logerror                      38622.0  1.591660e-02  1.721501e-01   \n",
       "\n",
       "                                       min           25%           50%  \\\n",
       "parcelid                      1.071186e+07  1.154805e+07  1.260418e+07   \n",
       "id                            3.490000e+02  7.599932e+05  1.507182e+06   \n",
       "airconditioningtypeid         1.000000e+00  1.000000e+00  1.000000e+00   \n",
       "architecturalstyletypeid      2.000000e+00  7.000000e+00  7.000000e+00   \n",
       "basementsqft                  1.000000e+02  3.490000e+02  6.040000e+02   \n",
       "bathroomcnt                   0.000000e+00  2.000000e+00  2.000000e+00   \n",
       "bedroomcnt                    0.000000e+00  2.000000e+00  3.000000e+00   \n",
       "buildingqualitytypeid         1.000000e+00  6.000000e+00  7.000000e+00   \n",
       "calculatedbathnbr             1.000000e+00  2.000000e+00  2.000000e+00   \n",
       "decktypeid                    6.600000e+01  6.600000e+01  6.600000e+01   \n",
       "finishedfloor1squarefeet      4.700000e+01  9.665000e+02  1.263000e+03   \n",
       "calculatedfinishedsquarefeet  2.400000e+02  1.174000e+03  1.525000e+03   \n",
       "finishedsquarefeet12          2.400000e+02  1.174250e+03  1.526000e+03   \n",
       "finishedsquarefeet13          1.056000e+03  1.344000e+03  1.440000e+03   \n",
       "finishedsquarefeet15          6.000000e+02  6.060000e+02  6.760000e+02   \n",
       "finishedsquarefeet50          4.700000e+01  9.680000e+02  1.264000e+03   \n",
       "finishedsquarefeet6           3.800000e+02  8.002500e+02  1.044500e+03   \n",
       "fips                          6.037000e+03  6.037000e+03  6.037000e+03   \n",
       "fireplacecnt                  1.000000e+00  1.000000e+00  1.000000e+00   \n",
       "fullbathcnt                   1.000000e+00  2.000000e+00  2.000000e+00   \n",
       "garagecarcnt                  0.000000e+00  2.000000e+00  2.000000e+00   \n",
       "garagetotalsqft               0.000000e+00  0.000000e+00  4.370000e+02   \n",
       "hashottuborspa                1.000000e+00  1.000000e+00  1.000000e+00   \n",
       "heatingorsystemtypeid         1.000000e+00  2.000000e+00  2.000000e+00   \n",
       "latitude                      3.333960e+07  3.380011e+07  3.401769e+07   \n",
       "longitude                    -1.194484e+08 -1.184230e+08 -1.181699e+08   \n",
       "lotsizesquarefeet             2.360000e+02  5.810000e+03  7.300000e+03   \n",
       "poolcnt                       1.000000e+00  1.000000e+00  1.000000e+00   \n",
       "poolsizesum                   1.050000e+02  4.342500e+02  5.000000e+02   \n",
       "pooltypeid10                  1.000000e+00  1.000000e+00  1.000000e+00   \n",
       "pooltypeid2                   1.000000e+00  1.000000e+00  1.000000e+00   \n",
       "pooltypeid7                   1.000000e+00  1.000000e+00  1.000000e+00   \n",
       "propertylandusetypeid         2.600000e+02  2.610000e+02  2.610000e+02   \n",
       "rawcensustractandblock        6.037101e+07  6.037400e+07  6.037651e+07   \n",
       "regionidcity                  3.491000e+03  1.244700e+04  2.521800e+04   \n",
       "regionidcounty                1.286000e+03  1.286000e+03  3.101000e+03   \n",
       "regionidneighborhood          6.952000e+03  4.146600e+04  1.182080e+05   \n",
       "regionidzip                   9.598200e+04  9.621000e+04  9.641100e+04   \n",
       "roomcnt                       0.000000e+00  0.000000e+00  0.000000e+00   \n",
       "storytypeid                   7.000000e+00  7.000000e+00  7.000000e+00   \n",
       "threequarterbathnbr           1.000000e+00  1.000000e+00  1.000000e+00   \n",
       "typeconstructiontypeid        4.000000e+00  6.000000e+00  6.000000e+00   \n",
       "unitcnt                       1.000000e+00  1.000000e+00  1.000000e+00   \n",
       "yardbuildingsqft17            1.100000e+01  1.775000e+02  2.480000e+02   \n",
       "yardbuildingsqft26            1.600000e+01  7.175000e+01  1.770000e+02   \n",
       "yearbuilt                     1.878000e+03  1.954000e+03  1.971000e+03   \n",
       "numberofstories               1.000000e+00  1.000000e+00  1.000000e+00   \n",
       "fireplaceflag                 1.000000e+00  1.000000e+00  1.000000e+00   \n",
       "structuretaxvaluedollarcnt    1.290000e+02  8.451250e+04  1.369250e+05   \n",
       "taxvaluedollarcnt             1.000000e+03  2.090510e+05  3.635160e+05   \n",
       "assessmentyear                2.016000e+03  2.016000e+03  2.016000e+03   \n",
       "landtaxvaluedollarcnt         1.000000e+03  8.702300e+04  2.080000e+05   \n",
       "taxamount                     1.992000e+01  2.720440e+03  4.464540e+03   \n",
       "taxdelinquencyyear            7.000000e+00  1.400000e+01  1.500000e+01   \n",
       "censustractandblock           6.037101e+13  6.037400e+13  6.037651e+13   \n",
       "id                            6.250000e+02  4.183625e+04  5.215650e+04   \n",
       "logerror                     -4.453964e+00 -2.343256e-02  6.802288e-03   \n",
       "\n",
       "                                       75%           max  \n",
       "parcelid                      1.429905e+07  1.676878e+08  \n",
       "id                            2.242966e+06  2.982274e+06  \n",
       "airconditioningtypeid         1.000000e+00  1.300000e+01  \n",
       "architecturalstyletypeid      7.000000e+00  2.100000e+01  \n",
       "basementsqft                  7.430000e+02  1.969000e+03  \n",
       "bathroomcnt                   3.000000e+00  1.100000e+01  \n",
       "bedroomcnt                    4.000000e+00  1.200000e+01  \n",
       "buildingqualitytypeid         8.000000e+00  1.200000e+01  \n",
       "calculatedbathnbr             3.000000e+00  1.100000e+01  \n",
       "decktypeid                    6.600000e+01  6.600000e+01  \n",
       "finishedfloor1squarefeet      1.617500e+03  6.743000e+03  \n",
       "calculatedfinishedsquarefeet  2.082000e+03  1.724500e+04  \n",
       "finishedsquarefeet12          2.084000e+03  1.724500e+04  \n",
       "finishedsquarefeet13          1.440000e+03  1.560000e+03  \n",
       "finishedsquarefeet15          8.535000e+02  1.182000e+03  \n",
       "finishedsquarefeet50          1.623000e+03  6.743000e+03  \n",
       "finishedsquarefeet6           1.303000e+03  4.184000e+03  \n",
       "fips                          6.059000e+03  6.111000e+03  \n",
       "fireplacecnt                  1.000000e+00  4.000000e+00  \n",
       "fullbathcnt                   3.000000e+00  1.100000e+01  \n",
       "garagecarcnt                  2.000000e+00  1.400000e+01  \n",
       "garagetotalsqft               4.950000e+02  4.251000e+03  \n",
       "hashottuborspa                1.000000e+00  1.000000e+00  \n",
       "heatingorsystemtypeid         7.000000e+00  2.400000e+01  \n",
       "latitude                      3.417747e+07  3.481877e+07  \n",
       "longitude                    -1.179121e+08 -1.175554e+08  \n",
       "lotsizesquarefeet             1.209950e+04  6.971010e+06  \n",
       "poolcnt                       1.000000e+00  1.000000e+00  \n",
       "poolsizesum                   6.000000e+02  1.364000e+03  \n",
       "pooltypeid10                  1.000000e+00  1.000000e+00  \n",
       "pooltypeid2                   1.000000e+00  1.000000e+00  \n",
       "pooltypeid7                   1.000000e+00  1.000000e+00  \n",
       "propertylandusetypeid         2.660000e+02  2.750000e+02  \n",
       "rawcensustractandblock        6.059052e+07  6.111009e+07  \n",
       "regionidcity                  4.545700e+04  3.965560e+05  \n",
       "regionidcounty                3.101000e+03  3.101000e+03  \n",
       "regionidneighborhood          2.747650e+05  7.641660e+05  \n",
       "regionidzip                   9.699000e+04  3.996750e+05  \n",
       "roomcnt                       0.000000e+00  1.500000e+01  \n",
       "storytypeid                   7.000000e+00  7.000000e+00  \n",
       "threequarterbathnbr           1.000000e+00  3.000000e+00  \n",
       "typeconstructiontypeid        6.000000e+00  1.000000e+01  \n",
       "unitcnt                       1.000000e+00  4.000000e+00  \n",
       "yardbuildingsqft17            3.600000e+02  3.011000e+03  \n",
       "yardbuildingsqft26            3.050000e+02  6.480000e+02  \n",
       "yearbuilt                     1.987000e+03  2.016000e+03  \n",
       "numberofstories               2.000000e+00  6.000000e+00  \n",
       "fireplaceflag                 1.000000e+00  1.000000e+00  \n",
       "structuretaxvaluedollarcnt    2.199940e+05  1.142179e+07  \n",
       "taxvaluedollarcnt             5.778040e+05  2.385837e+07  \n",
       "assessmentyear                2.016000e+03  2.016000e+03  \n",
       "landtaxvaluedollarcnt         3.761050e+05  1.635060e+07  \n",
       "taxamount                     6.984240e+03  2.767978e+05  \n",
       "taxdelinquencyyear            1.500000e+01  1.500000e+01  \n",
       "censustractandblock           6.059052e+13  6.111009e+13  \n",
       "id                            6.249575e+04  7.284400e+04  \n",
       "logerror                      3.760526e-02  3.175688e+00  "
      ]
     },
     "execution_count": 5,
     "metadata": {},
     "output_type": "execute_result"
    }
   ],
   "source": [
    "#There is so much to look at, need to narrow this down\n",
    "df.describe().T"
   ]
  },
  {
   "cell_type": "code",
   "execution_count": 6,
   "metadata": {},
   "outputs": [
    {
     "data": {
      "text/plain": [
       "(38622, 62)"
      ]
     },
     "execution_count": 6,
     "metadata": {},
     "output_type": "execute_result"
    }
   ],
   "source": [
    "df.shape"
   ]
  },
  {
   "cell_type": "code",
   "execution_count": 7,
   "metadata": {},
   "outputs": [
    {
     "data": {
      "text/plain": [
       "parcelid                            0\n",
       "id                                  0\n",
       "airconditioningtypeid           26398\n",
       "architecturalstyletypeid        38521\n",
       "basementsqft                    38595\n",
       "bathroomcnt                         0\n",
       "bedroomcnt                          0\n",
       "buildingclasstypeid             38622\n",
       "buildingqualitytypeid           14916\n",
       "calculatedbathnbr                 159\n",
       "decktypeid                      38289\n",
       "finishedfloor1squarefeet        35283\n",
       "calculatedfinishedsquarefeet      113\n",
       "finishedsquarefeet12              228\n",
       "finishedsquarefeet13            38591\n",
       "finishedsquarefeet15            38618\n",
       "finishedsquarefeet50            35283\n",
       "finishedsquarefeet6             38542\n",
       "fips                                0\n",
       "fireplacecnt                    33969\n",
       "fullbathcnt                       159\n",
       "garagecarcnt                    24703\n",
       "garagetotalsqft                 24703\n",
       "hashottuborspa                  37733\n",
       "heatingorsystemtypeid           14009\n",
       "latitude                            0\n",
       "longitude                           0\n",
       "lotsizesquarefeet                4367\n",
       "poolcnt                         30028\n",
       "poolsizesum                     38126\n",
       "pooltypeid10                    38372\n",
       "pooltypeid2                     37983\n",
       "pooltypeid7                     30676\n",
       "propertycountylandusecode           0\n",
       "propertylandusetypeid               0\n",
       "propertyzoningdesc              14664\n",
       "rawcensustractandblock              0\n",
       "regionidcity                      723\n",
       "regionidcounty                      0\n",
       "regionidneighborhood            23455\n",
       "regionidzip                        27\n",
       "roomcnt                             0\n",
       "storytypeid                     38595\n",
       "threequarterbathnbr             33038\n",
       "typeconstructiontypeid          38511\n",
       "unitcnt                         14715\n",
       "yardbuildingsqft17              37255\n",
       "yardbuildingsqft26              38574\n",
       "yearbuilt                         136\n",
       "numberofstories                 29107\n",
       "fireplaceflag                   38538\n",
       "structuretaxvaluedollarcnt         52\n",
       "taxvaluedollarcnt                   1\n",
       "assessmentyear                      0\n",
       "landtaxvaluedollarcnt               1\n",
       "taxamount                           1\n",
       "taxdelinquencyflag              37354\n",
       "taxdelinquencyyear              37354\n",
       "censustractandblock               144\n",
       "id                                  0\n",
       "logerror                            0\n",
       "transactiondate                     0\n",
       "dtype: int64"
      ]
     },
     "execution_count": 7,
     "metadata": {},
     "output_type": "execute_result"
    }
   ],
   "source": [
    "#Showing the nulls within the inital dataset\n",
    "df.isnull().sum()"
   ]
  },
  {
   "cell_type": "code",
   "execution_count": 8,
   "metadata": {},
   "outputs": [
    {
     "data": {
      "text/html": [
       "<div>\n",
       "<style scoped>\n",
       "    .dataframe tbody tr th:only-of-type {\n",
       "        vertical-align: middle;\n",
       "    }\n",
       "\n",
       "    .dataframe tbody tr th {\n",
       "        vertical-align: top;\n",
       "    }\n",
       "\n",
       "    .dataframe thead th {\n",
       "        text-align: right;\n",
       "    }\n",
       "</style>\n",
       "<table border=\"1\" class=\"dataframe\">\n",
       "  <thead>\n",
       "    <tr style=\"text-align: right;\">\n",
       "      <th></th>\n",
       "      <th>count</th>\n",
       "      <th>mean</th>\n",
       "      <th>std</th>\n",
       "      <th>min</th>\n",
       "      <th>25%</th>\n",
       "      <th>50%</th>\n",
       "      <th>75%</th>\n",
       "      <th>max</th>\n",
       "    </tr>\n",
       "  </thead>\n",
       "  <tbody>\n",
       "    <tr>\n",
       "      <th>bedroomcnt</th>\n",
       "      <td>38622.0</td>\n",
       "      <td>3.010512</td>\n",
       "      <td>1.029506</td>\n",
       "      <td>0.0</td>\n",
       "      <td>2.0</td>\n",
       "      <td>3.0</td>\n",
       "      <td>4.0</td>\n",
       "      <td>12.0</td>\n",
       "    </tr>\n",
       "    <tr>\n",
       "      <th>bathroomcnt</th>\n",
       "      <td>38622.0</td>\n",
       "      <td>2.273743</td>\n",
       "      <td>0.950588</td>\n",
       "      <td>0.0</td>\n",
       "      <td>2.0</td>\n",
       "      <td>2.0</td>\n",
       "      <td>3.0</td>\n",
       "      <td>11.0</td>\n",
       "    </tr>\n",
       "    <tr>\n",
       "      <th>calculatedfinishedsquarefeet</th>\n",
       "      <td>38509.0</td>\n",
       "      <td>1762.746709</td>\n",
       "      <td>928.300281</td>\n",
       "      <td>240.0</td>\n",
       "      <td>1174.0</td>\n",
       "      <td>1525.0</td>\n",
       "      <td>2082.0</td>\n",
       "      <td>17245.0</td>\n",
       "    </tr>\n",
       "    <tr>\n",
       "      <th>taxvaluedollarcnt</th>\n",
       "      <td>38621.0</td>\n",
       "      <td>496577.879651</td>\n",
       "      <td>632690.906146</td>\n",
       "      <td>1000.0</td>\n",
       "      <td>209051.0</td>\n",
       "      <td>363516.0</td>\n",
       "      <td>577804.0</td>\n",
       "      <td>23858374.0</td>\n",
       "    </tr>\n",
       "  </tbody>\n",
       "</table>\n",
       "</div>"
      ],
      "text/plain": [
       "                                count           mean            std     min  \\\n",
       "bedroomcnt                    38622.0       3.010512       1.029506     0.0   \n",
       "bathroomcnt                   38622.0       2.273743       0.950588     0.0   \n",
       "calculatedfinishedsquarefeet  38509.0    1762.746709     928.300281   240.0   \n",
       "taxvaluedollarcnt             38621.0  496577.879651  632690.906146  1000.0   \n",
       "\n",
       "                                   25%       50%       75%         max  \n",
       "bedroomcnt                         2.0       3.0       4.0        12.0  \n",
       "bathroomcnt                        2.0       2.0       3.0        11.0  \n",
       "calculatedfinishedsquarefeet    1174.0    1525.0    2082.0     17245.0  \n",
       "taxvaluedollarcnt             209051.0  363516.0  577804.0  23858374.0  "
      ]
     },
     "execution_count": 8,
     "metadata": {},
     "output_type": "execute_result"
    }
   ],
   "source": [
    "# noting the features that we would like to focus on\n",
    "sum_features = df[['bedroomcnt', 'bathroomcnt', 'calculatedfinishedsquarefeet', 'taxvaluedollarcnt']]\n",
    "sum_features.describe().T"
   ]
  },
  {
   "cell_type": "code",
   "execution_count": 9,
   "metadata": {},
   "outputs": [
    {
     "data": {
      "text/plain": [
       "Text(0.5, 1.0, 'Distribution of bedrooms')"
      ]
     },
     "execution_count": 9,
     "metadata": {},
     "output_type": "execute_result"
    },
    {
     "data": {
      "image/png": "[encoded data removed]",
      "text/plain": [
       "<Figure size 720x576 with 1 Axes>"
      ]
     },
     "metadata": {
      "needs_background": "light"
     },
     "output_type": "display_data"
    }
   ],
   "source": [
    "# use subplots to view distribution of numeric columns\n",
    "plt.figure(figsize=(10, 8))\n",
    "\n",
    "plt.subplot(222),\n",
    "df.bedroomcnt.hist()\n",
    "plt.gca().set_title('Distribution of bedrooms')"
   ]
  },
  {
   "cell_type": "code",
   "execution_count": 10,
   "metadata": {},
   "outputs": [
    {
     "data": {
      "text/plain": [
       "Text(0.5, 1.0, 'Distribution of bathrooms')"
      ]
     },
     "execution_count": 10,
     "metadata": {},
     "output_type": "execute_result"
    },
    {
     "data": {
      "image/png": "[encoded data removed]",
      "text/plain": [
       "<Figure size 720x576 with 1 Axes>"
      ]
     },
     "metadata": {
      "needs_background": "light"
     },
     "output_type": "display_data"
    }
   ],
   "source": [
    "plt.figure(figsize=(10, 8))\n",
    "plt.subplot(221)\n",
    "df.bathroomcnt.hist()\n",
    "plt.gca().set_title('Distribution of bathrooms')"
   ]
  },
  {
   "cell_type": "code",
   "execution_count": 11,
   "metadata": {},
   "outputs": [
    {
     "data": {
      "text/plain": [
       "Text(0.5, 1.0, 'Distribution of square feet')"
      ]
     },
     "execution_count": 11,
     "metadata": {},
     "output_type": "execute_result"
    },
    {
     "data": {
      "image/png": "[encoded data removed]",
      "text/plain": [
       "<Figure size 720x576 with 1 Axes>"
      ]
     },
     "metadata": {
      "needs_background": "light"
     },
     "output_type": "display_data"
    }
   ],
   "source": [
    "plt.figure(figsize=(10, 8))\n",
    "plt.subplot(224)\n",
    "df.calculatedfinishedsquarefeet.hist()\n",
    "plt.gca().set_title('Distribution of square feet')"
   ]
  },
  {
   "cell_type": "code",
   "execution_count": 12,
   "metadata": {},
   "outputs": [
    {
     "data": {
      "text/plain": [
       "Text(0.5, 1.0, 'Distribution of tax value')"
      ]
     },
     "execution_count": 12,
     "metadata": {},
     "output_type": "execute_result"
    },
    {
     "data": {
      "image/png": "[encoded data removed]",
      "text/plain": [
       "<Figure size 720x576 with 1 Axes>"
      ]
     },
     "metadata": {
      "needs_background": "light"
     },
     "output_type": "display_data"
    }
   ],
   "source": [
    "plt.figure(figsize=(10, 8))\n",
    "plt.subplot(223)\n",
    "df.taxvaluedollarcnt.hist() \n",
    "plt.gca().set_title('Distribution of tax value')"
   ]
  },
  {
   "cell_type": "markdown",
   "metadata": {},
   "source": [
    "**Takeaways**\n",
    "- So. Many. Nulls. \n",
    "- Need to remove the nulls within the data\n",
    "- There are many columns (62 to be exact as shown in shape)\n",
    "    - Not sure if we need all these columns, need to remove some for data digestion\n",
    "- Need to clean data"
   ]
  },
  {
   "cell_type": "markdown",
   "metadata": {},
   "source": [
    "-----"
   ]
  },
  {
   "cell_type": "markdown",
   "metadata": {},
   "source": [
    "# Prepare"
   ]
  },
  {
   "cell_type": "markdown",
   "metadata": {},
   "source": [
    "- Used the following columns for Prepare with reasoning below: \n",
    "    - bedroomcnt \n",
    "        - Reasoning: same number of 38622 non-null with bathroomcnt\n",
    "    - bathroomcnt\n",
    "        - Reasoning: same number of 38622 non-null with bedroomcnt\n",
    "    - calculatedfinishedsquarefeet\n",
    "         - Reasoning: around same number of 38509 non-null's as bedroomcnt and bathroomcnt\n",
    "    - taxvaluedollarcnt \n",
    "        - Reasoning: project cirriculm noted to use this exact column\n",
    "    - taxamount (tax value, taxes, tax rate)\n",
    "        - Reasoning: around same number as bedroomcnt, bathroomcnt and calculatedfinishedsquarefeet with 38621 non-null's and way to figure out the tax amount   \n",
    "        \n",
    "<br/>  \n",
    "\n",
    "- Outliers / identified erroneous data: \n",
    "    - Reasoning: Any columns not within the prepare file have outliers or are erroneous data."
   ]
  },
  {
   "cell_type": "code",
   "execution_count": 13,
   "metadata": {},
   "outputs": [
    {
     "data": {
      "text/html": [
       "<div>\n",
       "<style scoped>\n",
       "    .dataframe tbody tr th:only-of-type {\n",
       "        vertical-align: middle;\n",
       "    }\n",
       "\n",
       "    .dataframe tbody tr th {\n",
       "        vertical-align: top;\n",
       "    }\n",
       "\n",
       "    .dataframe thead th {\n",
       "        text-align: right;\n",
       "    }\n",
       "</style>\n",
       "<table border=\"1\" class=\"dataframe\">\n",
       "  <thead>\n",
       "    <tr style=\"text-align: right;\">\n",
       "      <th></th>\n",
       "      <th>parcelid</th>\n",
       "      <th>county_code</th>\n",
       "      <th>bedrooms</th>\n",
       "      <th>bathrooms</th>\n",
       "      <th>square_feet</th>\n",
       "      <th>tax_value</th>\n",
       "      <th>taxes</th>\n",
       "      <th>tax_rate</th>\n",
       "    </tr>\n",
       "  </thead>\n",
       "  <tbody>\n",
       "    <tr>\n",
       "      <th>0</th>\n",
       "      <td>14634203</td>\n",
       "      <td>6059.0</td>\n",
       "      <td>3</td>\n",
       "      <td>2.0</td>\n",
       "      <td>1125</td>\n",
       "      <td>289445</td>\n",
       "      <td>3490.16</td>\n",
       "      <td>1.21</td>\n",
       "    </tr>\n",
       "    <tr>\n",
       "      <th>1</th>\n",
       "      <td>11721753</td>\n",
       "      <td>6037.0</td>\n",
       "      <td>3</td>\n",
       "      <td>2.0</td>\n",
       "      <td>1316</td>\n",
       "      <td>205123</td>\n",
       "      <td>2627.48</td>\n",
       "      <td>1.28</td>\n",
       "    </tr>\n",
       "    <tr>\n",
       "      <th>2</th>\n",
       "      <td>11289917</td>\n",
       "      <td>6037.0</td>\n",
       "      <td>3</td>\n",
       "      <td>2.0</td>\n",
       "      <td>1458</td>\n",
       "      <td>136104</td>\n",
       "      <td>2319.90</td>\n",
       "      <td>1.70</td>\n",
       "    </tr>\n",
       "    <tr>\n",
       "      <th>3</th>\n",
       "      <td>11637029</td>\n",
       "      <td>6037.0</td>\n",
       "      <td>3</td>\n",
       "      <td>2.0</td>\n",
       "      <td>1766</td>\n",
       "      <td>810694</td>\n",
       "      <td>9407.01</td>\n",
       "      <td>1.16</td>\n",
       "    </tr>\n",
       "    <tr>\n",
       "      <th>4</th>\n",
       "      <td>11705026</td>\n",
       "      <td>6037.0</td>\n",
       "      <td>2</td>\n",
       "      <td>1.0</td>\n",
       "      <td>1421</td>\n",
       "      <td>35606</td>\n",
       "      <td>543.69</td>\n",
       "      <td>1.53</td>\n",
       "    </tr>\n",
       "  </tbody>\n",
       "</table>\n",
       "</div>"
      ],
      "text/plain": [
       "   parcelid  county_code  bedrooms  bathrooms  square_feet  tax_value  \\\n",
       "0  14634203       6059.0         3        2.0         1125     289445   \n",
       "1  11721753       6037.0         3        2.0         1316     205123   \n",
       "2  11289917       6037.0         3        2.0         1458     136104   \n",
       "3  11637029       6037.0         3        2.0         1766     810694   \n",
       "4  11705026       6037.0         2        1.0         1421      35606   \n",
       "\n",
       "     taxes  tax_rate  \n",
       "0  3490.16      1.21  \n",
       "1  2627.48      1.28  \n",
       "2  2319.90      1.70  \n",
       "3  9407.01      1.16  \n",
       "4   543.69      1.53  "
      ]
     },
     "execution_count": 13,
     "metadata": {},
     "output_type": "execute_result"
    }
   ],
   "source": [
    "prep_zillow = prep.clean_zillow(df)\n",
    "prep_zillow.head()"
   ]
  },
  {
   "cell_type": "code",
   "execution_count": 14,
   "metadata": {},
   "outputs": [
    {
     "name": "stdout",
     "output_type": "stream",
     "text": [
      "<class 'pandas.core.frame.DataFrame'>\n",
      "Int64Index: 34858 entries, 0 to 38621\n",
      "Data columns (total 8 columns):\n",
      " #   Column       Non-Null Count  Dtype  \n",
      "---  ------       --------------  -----  \n",
      " 0   parcelid     34858 non-null  int64  \n",
      " 1   county_code  34858 non-null  float64\n",
      " 2   bedrooms     34858 non-null  int64  \n",
      " 3   bathrooms    34858 non-null  float64\n",
      " 4   square_feet  34858 non-null  int64  \n",
      " 5   tax_value    34858 non-null  int64  \n",
      " 6   taxes        34858 non-null  float64\n",
      " 7   tax_rate     34858 non-null  float64\n",
      "dtypes: float64(4), int64(4)\n",
      "memory usage: 2.4 MB\n"
     ]
    }
   ],
   "source": [
    "prep_zillow.info()"
   ]
  },
  {
   "cell_type": "code",
   "execution_count": 15,
   "metadata": {},
   "outputs": [
    {
     "data": {
      "text/plain": [
       "parcelid       0\n",
       "county_code    0\n",
       "bedrooms       0\n",
       "bathrooms      0\n",
       "square_feet    0\n",
       "tax_value      0\n",
       "taxes          0\n",
       "tax_rate       0\n",
       "dtype: int64"
      ]
     },
     "execution_count": 15,
     "metadata": {},
     "output_type": "execute_result"
    }
   ],
   "source": [
    "# checking the nulls for the cleaned data: \n",
    "prep_zillow.isnull().sum()"
   ]
  },
  {
   "cell_type": "code",
   "execution_count": 16,
   "metadata": {},
   "outputs": [
    {
     "data": {
      "text/plain": [
       "(34858, 8)"
      ]
     },
     "execution_count": 16,
     "metadata": {},
     "output_type": "execute_result"
    }
   ],
   "source": [
    "prep_zillow.shape"
   ]
  },
  {
   "cell_type": "code",
   "execution_count": 17,
   "metadata": {},
   "outputs": [],
   "source": [
    "# TARGET\n",
    "# Droping the taxes and tax rate as the model will predict tax value to predict the tax amount (the whole reason why we are doing this model)\n",
    "df = prep_zillow.drop(columns=['taxes', 'tax_rate'])"
   ]
  },
  {
   "cell_type": "code",
   "execution_count": 18,
   "metadata": {},
   "outputs": [
    {
     "data": {
      "text/html": [
       "<div>\n",
       "<style scoped>\n",
       "    .dataframe tbody tr th:only-of-type {\n",
       "        vertical-align: middle;\n",
       "    }\n",
       "\n",
       "    .dataframe tbody tr th {\n",
       "        vertical-align: top;\n",
       "    }\n",
       "\n",
       "    .dataframe thead th {\n",
       "        text-align: right;\n",
       "    }\n",
       "</style>\n",
       "<table border=\"1\" class=\"dataframe\">\n",
       "  <thead>\n",
       "    <tr style=\"text-align: right;\">\n",
       "      <th></th>\n",
       "      <th>parcelid</th>\n",
       "      <th>county_code</th>\n",
       "      <th>bedrooms</th>\n",
       "      <th>bathrooms</th>\n",
       "      <th>square_feet</th>\n",
       "      <th>tax_value</th>\n",
       "    </tr>\n",
       "  </thead>\n",
       "  <tbody>\n",
       "    <tr>\n",
       "      <th>0</th>\n",
       "      <td>14634203</td>\n",
       "      <td>6059.0</td>\n",
       "      <td>3</td>\n",
       "      <td>2.0</td>\n",
       "      <td>1125</td>\n",
       "      <td>289445</td>\n",
       "    </tr>\n",
       "    <tr>\n",
       "      <th>1</th>\n",
       "      <td>11721753</td>\n",
       "      <td>6037.0</td>\n",
       "      <td>3</td>\n",
       "      <td>2.0</td>\n",
       "      <td>1316</td>\n",
       "      <td>205123</td>\n",
       "    </tr>\n",
       "    <tr>\n",
       "      <th>2</th>\n",
       "      <td>11289917</td>\n",
       "      <td>6037.0</td>\n",
       "      <td>3</td>\n",
       "      <td>2.0</td>\n",
       "      <td>1458</td>\n",
       "      <td>136104</td>\n",
       "    </tr>\n",
       "    <tr>\n",
       "      <th>3</th>\n",
       "      <td>11637029</td>\n",
       "      <td>6037.0</td>\n",
       "      <td>3</td>\n",
       "      <td>2.0</td>\n",
       "      <td>1766</td>\n",
       "      <td>810694</td>\n",
       "    </tr>\n",
       "    <tr>\n",
       "      <th>4</th>\n",
       "      <td>11705026</td>\n",
       "      <td>6037.0</td>\n",
       "      <td>2</td>\n",
       "      <td>1.0</td>\n",
       "      <td>1421</td>\n",
       "      <td>35606</td>\n",
       "    </tr>\n",
       "  </tbody>\n",
       "</table>\n",
       "</div>"
      ],
      "text/plain": [
       "   parcelid  county_code  bedrooms  bathrooms  square_feet  tax_value\n",
       "0  14634203       6059.0         3        2.0         1125     289445\n",
       "1  11721753       6037.0         3        2.0         1316     205123\n",
       "2  11289917       6037.0         3        2.0         1458     136104\n",
       "3  11637029       6037.0         3        2.0         1766     810694\n",
       "4  11705026       6037.0         2        1.0         1421      35606"
      ]
     },
     "execution_count": 18,
     "metadata": {},
     "output_type": "execute_result"
    }
   ],
   "source": [
    "# checking to make sure the original dataframe is updated: \n",
    "df.head()"
   ]
  },
  {
   "cell_type": "code",
   "execution_count": 19,
   "metadata": {},
   "outputs": [
    {
     "data": {
      "text/plain": [
       "Index(['parcelid', 'county_code', 'bedrooms', 'bathrooms', 'square_feet',\n",
       "       'tax_value'],\n",
       "      dtype='object')"
      ]
     },
     "execution_count": 19,
     "metadata": {},
     "output_type": "execute_result"
    }
   ],
   "source": [
    "df.columns"
   ]
  },
  {
   "cell_type": "code",
   "execution_count": 20,
   "metadata": {},
   "outputs": [],
   "source": [
    "# split the data\n",
    "train, validate, test = prep.split(df)"
   ]
  },
  {
   "cell_type": "code",
   "execution_count": 21,
   "metadata": {},
   "outputs": [
    {
     "data": {
      "text/plain": [
       "Index(['parcelid', 'county_code', 'bedrooms', 'bathrooms', 'square_feet',\n",
       "       'tax_value'],\n",
       "      dtype='object')"
      ]
     },
     "execution_count": 21,
     "metadata": {},
     "output_type": "execute_result"
    }
   ],
   "source": [
    "train.columns"
   ]
  },
  {
   "cell_type": "code",
   "execution_count": 22,
   "metadata": {},
   "outputs": [
    {
     "data": {
      "text/plain": [
       "((19520, 6), (8366, 6), (6972, 6))"
      ]
     },
     "execution_count": 22,
     "metadata": {},
     "output_type": "execute_result"
    }
   ],
   "source": [
    "# checking the shape of the split datasets: \n",
    "train.shape, validate.shape, test.shape"
   ]
  },
  {
   "cell_type": "code",
   "execution_count": 23,
   "metadata": {},
   "outputs": [
    {
     "data": {
      "text/html": [
       "<div>\n",
       "<style scoped>\n",
       "    .dataframe tbody tr th:only-of-type {\n",
       "        vertical-align: middle;\n",
       "    }\n",
       "\n",
       "    .dataframe tbody tr th {\n",
       "        vertical-align: top;\n",
       "    }\n",
       "\n",
       "    .dataframe thead th {\n",
       "        text-align: right;\n",
       "    }\n",
       "</style>\n",
       "<table border=\"1\" class=\"dataframe\">\n",
       "  <thead>\n",
       "    <tr style=\"text-align: right;\">\n",
       "      <th></th>\n",
       "      <th>parcelid</th>\n",
       "      <th>county_code</th>\n",
       "      <th>bedrooms</th>\n",
       "      <th>bathrooms</th>\n",
       "      <th>square_feet</th>\n",
       "      <th>tax_value</th>\n",
       "    </tr>\n",
       "  </thead>\n",
       "  <tbody>\n",
       "    <tr>\n",
       "      <th>13699</th>\n",
       "      <td>14698095</td>\n",
       "      <td>6059.0</td>\n",
       "      <td>4</td>\n",
       "      <td>3.5</td>\n",
       "      <td>2680</td>\n",
       "      <td>735936</td>\n",
       "    </tr>\n",
       "    <tr>\n",
       "      <th>23278</th>\n",
       "      <td>10924173</td>\n",
       "      <td>6037.0</td>\n",
       "      <td>3</td>\n",
       "      <td>2.0</td>\n",
       "      <td>1778</td>\n",
       "      <td>451786</td>\n",
       "    </tr>\n",
       "    <tr>\n",
       "      <th>14085</th>\n",
       "      <td>13880974</td>\n",
       "      <td>6059.0</td>\n",
       "      <td>3</td>\n",
       "      <td>1.0</td>\n",
       "      <td>1118</td>\n",
       "      <td>388289</td>\n",
       "    </tr>\n",
       "    <tr>\n",
       "      <th>17942</th>\n",
       "      <td>11788895</td>\n",
       "      <td>6037.0</td>\n",
       "      <td>2</td>\n",
       "      <td>2.0</td>\n",
       "      <td>1348</td>\n",
       "      <td>456387</td>\n",
       "    </tr>\n",
       "    <tr>\n",
       "      <th>35024</th>\n",
       "      <td>10804503</td>\n",
       "      <td>6037.0</td>\n",
       "      <td>2</td>\n",
       "      <td>3.0</td>\n",
       "      <td>2044</td>\n",
       "      <td>437299</td>\n",
       "    </tr>\n",
       "  </tbody>\n",
       "</table>\n",
       "</div>"
      ],
      "text/plain": [
       "       parcelid  county_code  bedrooms  bathrooms  square_feet  tax_value\n",
       "13699  14698095       6059.0         4        3.5         2680     735936\n",
       "23278  10924173       6037.0         3        2.0         1778     451786\n",
       "14085  13880974       6059.0         3        1.0         1118     388289\n",
       "17942  11788895       6037.0         2        2.0         1348     456387\n",
       "35024  10804503       6037.0         2        3.0         2044     437299"
      ]
     },
     "execution_count": 23,
     "metadata": {},
     "output_type": "execute_result"
    }
   ],
   "source": [
    "train.head()"
   ]
  },
  {
   "cell_type": "code",
   "execution_count": 24,
   "metadata": {},
   "outputs": [],
   "source": [
    "# X and Y \n",
    "X_train = train.drop(columns=['tax_value'])\n",
    "y_train = train.tax_value\n",
    "\n",
    "X_validate = validate.drop(columns=['tax_value'])\n",
    "y_validate = validate.tax_value\n",
    "\n",
    "X_test = test.drop(columns=['tax_value'])\n",
    "y_test = test.tax_value"
   ]
  },
  {
   "cell_type": "code",
   "execution_count": 25,
   "metadata": {},
   "outputs": [],
   "source": [
    "#Min_Max_Scaler\n",
    "X_train_scaled, X_validate_scaled, X_test_scaled = Min_Max_Scaler(X_train, X_validate, X_test)"
   ]
  },
  {
   "cell_type": "code",
   "execution_count": 26,
   "metadata": {},
   "outputs": [
    {
     "data": {
      "text/html": [
       "<div>\n",
       "<style scoped>\n",
       "    .dataframe tbody tr th:only-of-type {\n",
       "        vertical-align: middle;\n",
       "    }\n",
       "\n",
       "    .dataframe tbody tr th {\n",
       "        vertical-align: top;\n",
       "    }\n",
       "\n",
       "    .dataframe thead th {\n",
       "        text-align: right;\n",
       "    }\n",
       "</style>\n",
       "<table border=\"1\" class=\"dataframe\">\n",
       "  <thead>\n",
       "    <tr style=\"text-align: right;\">\n",
       "      <th></th>\n",
       "      <th>parcelid</th>\n",
       "      <th>county_code</th>\n",
       "      <th>bedrooms</th>\n",
       "      <th>bathrooms</th>\n",
       "      <th>square_feet</th>\n",
       "    </tr>\n",
       "  </thead>\n",
       "  <tbody>\n",
       "    <tr>\n",
       "      <th>13699</th>\n",
       "      <td>0.025402</td>\n",
       "      <td>0.297297</td>\n",
       "      <td>0.444444</td>\n",
       "      <td>0.466667</td>\n",
       "      <td>0.761786</td>\n",
       "    </tr>\n",
       "    <tr>\n",
       "      <th>23278</th>\n",
       "      <td>0.001353</td>\n",
       "      <td>0.000000</td>\n",
       "      <td>0.333333</td>\n",
       "      <td>0.266667</td>\n",
       "      <td>0.480175</td>\n",
       "    </tr>\n",
       "    <tr>\n",
       "      <th>14085</th>\n",
       "      <td>0.020195</td>\n",
       "      <td>0.297297</td>\n",
       "      <td>0.333333</td>\n",
       "      <td>0.133333</td>\n",
       "      <td>0.274118</td>\n",
       "    </tr>\n",
       "    <tr>\n",
       "      <th>17942</th>\n",
       "      <td>0.006863</td>\n",
       "      <td>0.000000</td>\n",
       "      <td>0.222222</td>\n",
       "      <td>0.266667</td>\n",
       "      <td>0.345926</td>\n",
       "    </tr>\n",
       "    <tr>\n",
       "      <th>35024</th>\n",
       "      <td>0.000590</td>\n",
       "      <td>0.000000</td>\n",
       "      <td>0.222222</td>\n",
       "      <td>0.400000</td>\n",
       "      <td>0.563222</td>\n",
       "    </tr>\n",
       "  </tbody>\n",
       "</table>\n",
       "</div>"
      ],
      "text/plain": [
       "       parcelid  county_code  bedrooms  bathrooms  square_feet\n",
       "13699  0.025402     0.297297  0.444444   0.466667     0.761786\n",
       "23278  0.001353     0.000000  0.333333   0.266667     0.480175\n",
       "14085  0.020195     0.297297  0.333333   0.133333     0.274118\n",
       "17942  0.006863     0.000000  0.222222   0.266667     0.345926\n",
       "35024  0.000590     0.000000  0.222222   0.400000     0.563222"
      ]
     },
     "execution_count": 26,
     "metadata": {},
     "output_type": "execute_result"
    }
   ],
   "source": [
    "# Look at X_train\n",
    "X_train_scaled.head()"
   ]
  },
  {
   "cell_type": "markdown",
   "metadata": {},
   "source": [
    "**Takeaways**\n",
    "- Data is cleaned \n",
    "- Data is split into train, validate and test\n",
    "- Data is scaled"
   ]
  },
  {
   "cell_type": "markdown",
   "metadata": {},
   "source": [
    "**For Explore:**\n",
    "- Target: \n",
    "    - tax_value\n",
    "- Variables: \n",
    "    - Categorical variables: \n",
    "        - bedrooms\n",
    "        - bathrooms\n",
    "    - Continuous variables: \n",
    "        - square_feet\n",
    "    - Remaining variables: \n",
    "        - parcelid (unique identifyer)"
   ]
  },
  {
   "cell_type": "markdown",
   "metadata": {},
   "source": [
    "# Explore"
   ]
  },
  {
   "cell_type": "code",
   "execution_count": 27,
   "metadata": {},
   "outputs": [
    {
     "data": {
      "text/plain": [
       "<seaborn.axisgrid.PairGrid at 0x7fba3e8b1130>"
      ]
     },
     "execution_count": 27,
     "metadata": {},
     "output_type": "execute_result"
    },
    {
     "data": {
      "image/png": "[encoded data removed]",
      "text/plain": [
       "<Figure size 1080x1080 with 42 Axes>"
      ]
     },
     "metadata": {
      "needs_background": "light"
     },
     "output_type": "display_data"
    }
   ],
   "source": [
    "# pairplot to look at potential correlations\n",
    "sns.pairplot(train)"
   ]
  },
  {
   "cell_type": "markdown",
   "metadata": {},
   "source": [
    "**Pairplot Findings**\n",
    "- square_feet and tax_value correlation\n",
    "- square_feet and bathroom corrrelation\n",
    "- outliers in parcel id make sense due to unique identifyer"
   ]
  },
  {
   "cell_type": "code",
   "execution_count": 28,
   "metadata": {},
   "outputs": [
    {
     "data": {
      "image/png": "[encoded data removed]",
      "text/plain": [
       "<Figure size 432x288 with 2 Axes>"
      ]
     },
     "metadata": {
      "needs_background": "light"
     },
     "output_type": "display_data"
    }
   ],
   "source": [
    "# heatmap to note correlations: \n",
    "sns.heatmap(train.corr())\n",
    "plt.show()"
   ]
  },
  {
   "cell_type": "markdown",
   "metadata": {},
   "source": [
    "**Heatmap Findings**\n",
    "- parcelid doesn't show us anything due to it is a unique identifyer\n",
    "- correlation between tax_value and square_feet"
   ]
  },
  {
   "cell_type": "code",
   "execution_count": 29,
   "metadata": {},
   "outputs": [
    {
     "data": {
      "image/png": "[encoded data removed]",
      "text/plain": [
       "<Figure size 432x288 with 1 Axes>"
      ]
     },
     "metadata": {
      "needs_background": "light"
     },
     "output_type": "display_data"
    }
   ],
   "source": [
    "sns.histplot(data=train, x=\"tax_value\", hue=\"bathrooms\")\n",
    "plt.show()"
   ]
  },
  {
   "cell_type": "markdown",
   "metadata": {},
   "source": [
    "**Histplot Findings**\n",
    "- As the number of bathrooms increase, the tax_value increases"
   ]
  },
  {
   "cell_type": "code",
   "execution_count": 30,
   "metadata": {},
   "outputs": [],
   "source": [
    "import explore"
   ]
  },
  {
   "cell_type": "code",
   "execution_count": 31,
   "metadata": {},
   "outputs": [
    {
     "data": {
      "text/plain": [
       "Index(['parcelid', 'county_code', 'bedrooms', 'bathrooms', 'square_feet',\n",
       "       'tax_value'],\n",
       "      dtype='object')"
      ]
     },
     "execution_count": 31,
     "metadata": {},
     "output_type": "execute_result"
    }
   ],
   "source": [
    "train.columns"
   ]
  },
  {
   "cell_type": "code",
   "execution_count": 32,
   "metadata": {},
   "outputs": [],
   "source": [
    "cat_vars = 'bedrooms', 'bathrooms', 'county_code'"
   ]
  },
  {
   "cell_type": "code",
   "execution_count": 33,
   "metadata": {},
   "outputs": [],
   "source": [
    "quant_vars = 'square_feet'"
   ]
  },
  {
   "cell_type": "markdown",
   "metadata": {},
   "source": [
    "**Univariate**"
   ]
  },
  {
   "cell_type": "code",
   "execution_count": 34,
   "metadata": {},
   "outputs": [
    {
     "data": {
      "image/png": "[encoded data removed]",
      "text/plain": [
       "<Figure size 288x288 with 1 Axes>"
      ]
     },
     "metadata": {
      "needs_background": "light"
     },
     "output_type": "display_data"
    },
    {
     "name": "stdout",
     "output_type": "stream",
     "text": [
      "   bedrooms  Count  Percent\n",
      "3         4   8260    42.32\n",
      "2         3   5356    27.44\n",
      "4         2   4109    21.05\n",
      "1         1    910     4.66\n",
      "5         5    701     3.59\n",
      "0         0     96     0.49\n",
      "6         6     73     0.37\n",
      "7         7     11     0.06\n",
      "8         8      3     0.02\n",
      "9         9      1     0.01\n",
      "_________________________________________________________________\n"
     ]
    },
    {
     "data": {
      "image/png": "[encoded data removed]",
      "text/plain": [
       "<Figure size 288x288 with 1 Axes>"
      ]
     },
     "metadata": {
      "needs_background": "light"
     },
     "output_type": "display_data"
    },
    {
     "name": "stdout",
     "output_type": "stream",
     "text": [
      "     bathrooms  Count  Percent\n",
      "2.0        3.5   8693    44.53\n",
      "3.0        2.0   4136    21.19\n",
      "1.0        1.0   3683    18.87\n",
      "2.5        3.0   1982    10.15\n",
      "1.5        2.5    439     2.25\n",
      "4.0        4.0    347     1.78\n",
      "3.5        1.5    148     0.76\n",
      "5.0        5.0     40     0.20\n",
      "4.5        0.0     25     0.13\n",
      "0.0        4.5     24     0.12\n",
      "5.5        7.0      1     0.01\n",
      "7.0        5.5      1     0.01\n",
      "7.5        7.5      1     0.01\n",
      "_________________________________________________________________\n"
     ]
    },
    {
     "data": {
      "image/png": "[encoded data removed]",
      "text/plain": [
       "<Figure size 288x288 with 1 Axes>"
      ]
     },
     "metadata": {
      "needs_background": "light"
     },
     "output_type": "display_data"
    },
    {
     "name": "stdout",
     "output_type": "stream",
     "text": [
      "        county_code  Count  Percent\n",
      "6037.0       6059.0  12158    62.28\n",
      "6059.0       6037.0   5587    28.62\n",
      "6111.0       6111.0   1775     9.09\n",
      "_________________________________________________________________\n"
     ]
    }
   ],
   "source": [
    "explore.explore_univariate(train, cat_vars, quant_vars)"
   ]
  },
  {
   "cell_type": "markdown",
   "metadata": {},
   "source": [
    "**bivariate**"
   ]
  },
  {
   "cell_type": "code",
   "execution_count": 35,
   "metadata": {},
   "outputs": [],
   "source": [
    "target = 'tax_value'"
   ]
  },
  {
   "cell_type": "code",
   "execution_count": 36,
   "metadata": {},
   "outputs": [
    {
     "name": "stdout",
     "output_type": "stream",
     "text": [
      "bedrooms \n",
      "_____________________\n",
      "\n",
      "            chi2       p-value  degrees of freedom\n",
      "0  146967.489012  2.610296e-66              137763\n",
      "\n",
      "observed:\n",
      " tax_value  10504  13199  14439  15433  16084  16305  16514  16722  16723  \\\n",
      "bedrooms                                                                   \n",
      "0              0      0      0      0      0      0      0      0      0   \n",
      "1              0      0      0      0      0      0      1      0      0   \n",
      "2              1      0      1      1      1      0      0      0      1   \n",
      "3              0      0      0      0      0      1      0      1      0   \n",
      "4              0      1      0      0      0      0      0      0      0   \n",
      "5              0      0      0      0      0      0      0      0      0   \n",
      "6              0      0      0      0      0      0      0      0      0   \n",
      "7              0      0      0      0      0      0      0      0      0   \n",
      "8              0      0      0      0      0      0      0      0      0   \n",
      "9              0      0      0      0      0      0      0      0      0   \n",
      "All            1      1      1      1      1      1      1      1      1   \n",
      "\n",
      "tax_value  17032  ...  1038000  1038960  1039456  1039814  1039819  1040630  \\\n",
      "bedrooms          ...                                                         \n",
      "0              0  ...        0        0        0        0        0        0   \n",
      "1              0  ...        0        0        0        0        0        0   \n",
      "2              0  ...        0        0        1        0        0        0   \n",
      "3              1  ...        1        1        0        0        0        1   \n",
      "4              0  ...        0        0        0        1        1        0   \n",
      "5              0  ...        0        0        0        0        0        0   \n",
      "6              0  ...        0        0        0        0        0        0   \n",
      "7              0  ...        0        0        0        0        0        0   \n",
      "8              0  ...        0        0        0        0        0        0   \n",
      "9              0  ...        0        0        0        0        0        0   \n",
      "All            1  ...        1        1        1        1        1        1   \n",
      "\n",
      "tax_value  1041000  1041039  1042491    All  \n",
      "bedrooms                                     \n",
      "0                0        0        0     96  \n",
      "1                0        0        0    910  \n",
      "2                0        1        1   5356  \n",
      "3                1        0        0   8260  \n",
      "4                0        0        0   4109  \n",
      "5                0        0        0    701  \n",
      "6                0        0        0     73  \n",
      "7                0        0        0     11  \n",
      "8                0        0        0      3  \n",
      "9                0        0        0      1  \n",
      "All              1        1        1  19520  \n",
      "\n",
      "[11 rows x 15309 columns]\n",
      "\n",
      "expected:\n",
      "       0         1         2         3         4         5         6      \\\n",
      "0  0.004918  0.004918  0.004918  0.004918  0.004918  0.004918  0.004918   \n",
      "1  0.046619  0.046619  0.046619  0.046619  0.046619  0.046619  0.046619   \n",
      "2  0.274385  0.274385  0.274385  0.274385  0.274385  0.274385  0.274385   \n",
      "3  0.423156  0.423156  0.423156  0.423156  0.423156  0.423156  0.423156   \n",
      "4  0.210502  0.210502  0.210502  0.210502  0.210502  0.210502  0.210502   \n",
      "5  0.035912  0.035912  0.035912  0.035912  0.035912  0.035912  0.035912   \n",
      "6  0.003740  0.003740  0.003740  0.003740  0.003740  0.003740  0.003740   \n",
      "7  0.000564  0.000564  0.000564  0.000564  0.000564  0.000564  0.000564   \n",
      "8  0.000154  0.000154  0.000154  0.000154  0.000154  0.000154  0.000154   \n",
      "9  0.000051  0.000051  0.000051  0.000051  0.000051  0.000051  0.000051   \n",
      "\n",
      "      7         8         9      ...     15298     15299     15300     15301  \\\n",
      "0  0.004918  0.004918  0.004918  ...  0.004918  0.004918  0.004918  0.004918   \n",
      "1  0.046619  0.046619  0.046619  ...  0.046619  0.046619  0.046619  0.046619   \n",
      "2  0.274385  0.274385  0.274385  ...  0.274385  0.274385  0.274385  0.274385   \n",
      "3  0.423156  0.423156  0.423156  ...  0.423156  0.423156  0.423156  0.423156   \n",
      "4  0.210502  0.210502  0.210502  ...  0.210502  0.210502  0.210502  0.210502   \n",
      "5  0.035912  0.035912  0.035912  ...  0.035912  0.035912  0.035912  0.035912   \n",
      "6  0.003740  0.003740  0.003740  ...  0.003740  0.003740  0.003740  0.003740   \n",
      "7  0.000564  0.000564  0.000564  ...  0.000564  0.000564  0.000564  0.000564   \n",
      "8  0.000154  0.000154  0.000154  ...  0.000154  0.000154  0.000154  0.000154   \n",
      "9  0.000051  0.000051  0.000051  ...  0.000051  0.000051  0.000051  0.000051   \n",
      "\n",
      "      15302     15303     15304     15305     15306     15307  \n",
      "0  0.004918  0.004918  0.004918  0.004918  0.004918  0.004918  \n",
      "1  0.046619  0.046619  0.046619  0.046619  0.046619  0.046619  \n",
      "2  0.274385  0.274385  0.274385  0.274385  0.274385  0.274385  \n",
      "3  0.423156  0.423156  0.423156  0.423156  0.423156  0.423156  \n",
      "4  0.210502  0.210502  0.210502  0.210502  0.210502  0.210502  \n",
      "5  0.035912  0.035912  0.035912  0.035912  0.035912  0.035912  \n",
      "6  0.003740  0.003740  0.003740  0.003740  0.003740  0.003740  \n",
      "7  0.000564  0.000564  0.000564  0.000564  0.000564  0.000564  \n",
      "8  0.000154  0.000154  0.000154  0.000154  0.000154  0.000154  \n",
      "9  0.000051  0.000051  0.000051  0.000051  0.000051  0.000051  \n",
      "\n",
      "[10 rows x 15308 columns]\n"
     ]
    },
    {
     "data": {
      "image/png": "[encoded data removed]",
      "text/plain": [
       "<Figure size 144x144 with 1 Axes>"
      ]
     },
     "metadata": {
      "needs_background": "light"
     },
     "output_type": "display_data"
    },
    {
     "name": "stdout",
     "output_type": "stream",
     "text": [
      "\n",
      "_____________________\n",
      "\n",
      "bathrooms \n",
      "_____________________\n",
      "\n",
      "            chi2        p-value  degrees of freedom\n",
      "0  202715.011674  5.606875e-203              183684\n",
      "\n",
      "observed:\n",
      " tax_value  10504  13199  14439  15433  16084  16305  16514  16722  16723  \\\n",
      "bathrooms                                                                  \n",
      "0.0            0      0      0      0      0      0      0      0      0   \n",
      "1.0            1      1      1      1      1      1      1      1      1   \n",
      "1.5            0      0      0      0      0      0      0      0      0   \n",
      "2.0            0      0      0      0      0      0      0      0      0   \n",
      "2.5            0      0      0      0      0      0      0      0      0   \n",
      "3.0            0      0      0      0      0      0      0      0      0   \n",
      "3.5            0      0      0      0      0      0      0      0      0   \n",
      "4.0            0      0      0      0      0      0      0      0      0   \n",
      "4.5            0      0      0      0      0      0      0      0      0   \n",
      "5.0            0      0      0      0      0      0      0      0      0   \n",
      "5.5            0      0      0      0      0      0      0      0      0   \n",
      "7.0            0      0      0      0      0      0      0      0      0   \n",
      "7.5            0      0      0      0      0      0      0      0      0   \n",
      "All            1      1      1      1      1      1      1      1      1   \n",
      "\n",
      "tax_value  17032  ...  1038000  1038960  1039456  1039814  1039819  1040630  \\\n",
      "bathrooms         ...                                                         \n",
      "0.0            0  ...        0        0        0        0        0        0   \n",
      "1.0            0  ...        0        0        1        0        0        0   \n",
      "1.5            0  ...        0        0        0        0        0        0   \n",
      "2.0            1  ...        0        0        0        0        0        0   \n",
      "2.5            0  ...        0        0        0        0        0        0   \n",
      "3.0            0  ...        0        0        0        0        1        1   \n",
      "3.5            0  ...        0        0        0        0        0        0   \n",
      "4.0            0  ...        1        1        0        1        0        0   \n",
      "4.5            0  ...        0        0        0        0        0        0   \n",
      "5.0            0  ...        0        0        0        0        0        0   \n",
      "5.5            0  ...        0        0        0        0        0        0   \n",
      "7.0            0  ...        0        0        0        0        0        0   \n",
      "7.5            0  ...        0        0        0        0        0        0   \n",
      "All            1  ...        1        1        1        1        1        1   \n",
      "\n",
      "tax_value  1041000  1041039  1042491    All  \n",
      "bathrooms                                    \n",
      "0.0              0        0        0     24  \n",
      "1.0              0        0        0   3683  \n",
      "1.5              0        0        0    439  \n",
      "2.0              0        0        1   8693  \n",
      "2.5              0        0        0   1982  \n",
      "3.0              1        1        0   4136  \n",
      "3.5              0        0        0    148  \n",
      "4.0              0        0        0    347  \n",
      "4.5              0        0        0     25  \n",
      "5.0              0        0        0     40  \n",
      "5.5              0        0        0      1  \n",
      "7.0              0        0        0      1  \n",
      "7.5              0        0        0      1  \n",
      "All              1        1        1  19520  \n",
      "\n",
      "[14 rows x 15309 columns]\n",
      "\n",
      "expected:\n",
      "        0         1         2         3         4         5         6      \\\n",
      "0   0.001230  0.001230  0.001230  0.001230  0.001230  0.001230  0.001230   \n",
      "1   0.188678  0.188678  0.188678  0.188678  0.188678  0.188678  0.188678   \n",
      "2   0.022490  0.022490  0.022490  0.022490  0.022490  0.022490  0.022490   \n",
      "3   0.445338  0.445338  0.445338  0.445338  0.445338  0.445338  0.445338   \n",
      "4   0.101537  0.101537  0.101537  0.101537  0.101537  0.101537  0.101537   \n",
      "5   0.211885  0.211885  0.211885  0.211885  0.211885  0.211885  0.211885   \n",
      "6   0.007582  0.007582  0.007582  0.007582  0.007582  0.007582  0.007582   \n",
      "7   0.017777  0.017777  0.017777  0.017777  0.017777  0.017777  0.017777   \n",
      "8   0.001281  0.001281  0.001281  0.001281  0.001281  0.001281  0.001281   \n",
      "9   0.002049  0.002049  0.002049  0.002049  0.002049  0.002049  0.002049   \n",
      "10  0.000051  0.000051  0.000051  0.000051  0.000051  0.000051  0.000051   \n",
      "11  0.000051  0.000051  0.000051  0.000051  0.000051  0.000051  0.000051   \n",
      "12  0.000051  0.000051  0.000051  0.000051  0.000051  0.000051  0.000051   \n",
      "\n",
      "       7         8         9      ...     15298     15299     15300     15301  \\\n",
      "0   0.001230  0.001230  0.001230  ...  0.001230  0.001230  0.001230  0.001230   \n",
      "1   0.188678  0.188678  0.188678  ...  0.188678  0.188678  0.188678  0.188678   \n",
      "2   0.022490  0.022490  0.022490  ...  0.022490  0.022490  0.022490  0.022490   \n",
      "3   0.445338  0.445338  0.445338  ...  0.445338  0.445338  0.445338  0.445338   \n",
      "4   0.101537  0.101537  0.101537  ...  0.101537  0.101537  0.101537  0.101537   \n",
      "5   0.211885  0.211885  0.211885  ...  0.211885  0.211885  0.211885  0.211885   \n",
      "6   0.007582  0.007582  0.007582  ...  0.007582  0.007582  0.007582  0.007582   \n",
      "7   0.017777  0.017777  0.017777  ...  0.017777  0.017777  0.017777  0.017777   \n",
      "8   0.001281  0.001281  0.001281  ...  0.001281  0.001281  0.001281  0.001281   \n",
      "9   0.002049  0.002049  0.002049  ...  0.002049  0.002049  0.002049  0.002049   \n",
      "10  0.000051  0.000051  0.000051  ...  0.000051  0.000051  0.000051  0.000051   \n",
      "11  0.000051  0.000051  0.000051  ...  0.000051  0.000051  0.000051  0.000051   \n",
      "12  0.000051  0.000051  0.000051  ...  0.000051  0.000051  0.000051  0.000051   \n",
      "\n",
      "       15302     15303     15304     15305     15306     15307  \n",
      "0   0.001230  0.001230  0.001230  0.001230  0.001230  0.001230  \n",
      "1   0.188678  0.188678  0.188678  0.188678  0.188678  0.188678  \n",
      "2   0.022490  0.022490  0.022490  0.022490  0.022490  0.022490  \n",
      "3   0.445338  0.445338  0.445338  0.445338  0.445338  0.445338  \n",
      "4   0.101537  0.101537  0.101537  0.101537  0.101537  0.101537  \n",
      "5   0.211885  0.211885  0.211885  0.211885  0.211885  0.211885  \n",
      "6   0.007582  0.007582  0.007582  0.007582  0.007582  0.007582  \n",
      "7   0.017777  0.017777  0.017777  0.017777  0.017777  0.017777  \n",
      "8   0.001281  0.001281  0.001281  0.001281  0.001281  0.001281  \n",
      "9   0.002049  0.002049  0.002049  0.002049  0.002049  0.002049  \n",
      "10  0.000051  0.000051  0.000051  0.000051  0.000051  0.000051  \n",
      "11  0.000051  0.000051  0.000051  0.000051  0.000051  0.000051  \n",
      "12  0.000051  0.000051  0.000051  0.000051  0.000051  0.000051  \n",
      "\n",
      "[13 rows x 15308 columns]\n"
     ]
    },
    {
     "data": {
      "image/png": "[encoded data removed]",
      "text/plain": [
       "<Figure size 144x144 with 1 Axes>"
      ]
     },
     "metadata": {
      "needs_background": "light"
     },
     "output_type": "display_data"
    },
    {
     "name": "stdout",
     "output_type": "stream",
     "text": [
      "\n",
      "_____________________\n",
      "\n",
      "county_code \n",
      "_____________________\n",
      "\n",
      "           chi2       p-value  degrees of freedom\n",
      "0  32627.080751  8.165844e-16               30614\n",
      "\n",
      "observed:\n",
      " tax_value    10504  13199  14439  15433  16084  16305  16514  16722  16723  \\\n",
      "county_code                                                                  \n",
      "6037.0           1      1      1      0      1      1      1      1      1   \n",
      "6059.0           0      0      0      0      0      0      0      0      0   \n",
      "6111.0           0      0      0      1      0      0      0      0      0   \n",
      "All              1      1      1      1      1      1      1      1      1   \n",
      "\n",
      "tax_value    17032  ...  1038000  1038960  1039456  1039814  1039819  1040630  \\\n",
      "county_code         ...                                                         \n",
      "6037.0           1  ...        1        1        1        0        0        1   \n",
      "6059.0           0  ...        0        0        0        0        1        0   \n",
      "6111.0           0  ...        0        0        0        1        0        0   \n",
      "All              1  ...        1        1        1        1        1        1   \n",
      "\n",
      "tax_value    1041000  1041039  1042491    All  \n",
      "county_code                                    \n",
      "6037.0             1        1        1  12158  \n",
      "6059.0             0        0        0   5587  \n",
      "6111.0             0        0        0   1775  \n",
      "All                1        1        1  19520  \n",
      "\n",
      "[4 rows x 15309 columns]\n",
      "\n",
      "expected:\n",
      "       0         1         2         3         4         5         6      \\\n",
      "0  0.622848  0.622848  0.622848  0.622848  0.622848  0.622848  0.622848   \n",
      "1  0.286219  0.286219  0.286219  0.286219  0.286219  0.286219  0.286219   \n",
      "2  0.090932  0.090932  0.090932  0.090932  0.090932  0.090932  0.090932   \n",
      "\n",
      "      7         8         9      ...     15298     15299     15300     15301  \\\n",
      "0  0.622848  0.622848  0.622848  ...  0.622848  0.622848  0.622848  0.622848   \n",
      "1  0.286219  0.286219  0.286219  ...  0.286219  0.286219  0.286219  0.286219   \n",
      "2  0.090932  0.090932  0.090932  ...  0.090932  0.090932  0.090932  0.090932   \n",
      "\n",
      "      15302     15303     15304     15305     15306     15307  \n",
      "0  0.622848  0.622848  0.622848  0.622848  0.622848  0.622848  \n",
      "1  0.286219  0.286219  0.286219  0.286219  0.286219  0.286219  \n",
      "2  0.090932  0.090932  0.090932  0.090932  0.090932  0.090932  \n",
      "\n",
      "[3 rows x 15308 columns]\n"
     ]
    },
    {
     "data": {
      "image/png": "[encoded data removed]",
      "text/plain": [
       "<Figure size 144x144 with 1 Axes>"
      ]
     },
     "metadata": {
      "needs_background": "light"
     },
     "output_type": "display_data"
    },
    {
     "name": "stdout",
     "output_type": "stream",
     "text": [
      "\n",
      "_____________________\n",
      "\n"
     ]
    }
   ],
   "source": [
    "explore.explore_bivariate(train, target, cat_vars)"
   ]
  },
  {
   "cell_type": "markdown",
   "metadata": {},
   "source": [
    "**Statistical Tests**\n",
    "- square_feet & county_code\n",
    "    - Correlation Test\n",
    "    - T-Test"
   ]
  },
  {
   "cell_type": "code",
   "execution_count": 37,
   "metadata": {},
   "outputs": [
    {
     "name": "stdout",
     "output_type": "stream",
     "text": [
      "We reject the null hypothesis.\n",
      "We can move forward with the alternative hypothesis: There is a correlation correlation between square feet of the home and its taxvaluedollarcnt (tax_value).\n"
     ]
    }
   ],
   "source": [
    "#Tax Value x Square Feet Correlation Test\n",
    "null_hypothesis = \"There is no correlation correlation between square feet of the home and its taxvaluedollarcnt (tax_value).\"\n",
    "alternative_hypothesis = \"There is a correlation correlation between square feet of the home and its taxvaluedollarcnt (tax_value).\"\n",
    "confidence_level = .95\n",
    "alpha = 1 - confidence_level\n",
    "\n",
    "corr, p = stats.pearsonr(train.square_feet, train.tax_value)\n",
    "\n",
    "if p < alpha:\n",
    "    print(\"We reject the null hypothesis.\")\n",
    "    print(\"We can move forward with the alternative hypothesis:\", alternative_hypothesis)\n",
    "else:\n",
    "    print(\"We fail to reject the null hypothesis\")\n",
    "    print(\"Not enough evidence to support\", alternative_hypothesis)"
   ]
  },
  {
   "cell_type": "code",
   "execution_count": 38,
   "metadata": {},
   "outputs": [],
   "source": [
    "#t-test on entire train set for square feet\n",
    "t, p = stats.ttest_ind(train.tax_value,train.square_feet, equal_var=False)"
   ]
  },
  {
   "cell_type": "code",
   "execution_count": 39,
   "metadata": {},
   "outputs": [
    {
     "name": "stdout",
     "output_type": "stream",
     "text": [
      "t= 227.88074069804406\n",
      "p= 0.0\n",
      "alpha= 0.050000000000000044\n"
     ]
    }
   ],
   "source": [
    "print('t=',t)\n",
    "print('p=',p)\n",
    "print('alpha=',alpha)"
   ]
  },
  {
   "cell_type": "code",
   "execution_count": 40,
   "metadata": {},
   "outputs": [
    {
     "data": {
      "text/plain": [
       "True"
      ]
     },
     "execution_count": 40,
     "metadata": {},
     "output_type": "execute_result"
    }
   ],
   "source": [
    "p <alpha"
   ]
  },
  {
   "cell_type": "code",
   "execution_count": 41,
   "metadata": {},
   "outputs": [
    {
     "name": "stdout",
     "output_type": "stream",
     "text": [
      "We reject the null hypothesis.\n",
      "We can move forward with the alternative hypothesis: There is a correlation between in taxvaluedollarcnt (tax_value) for homes based on which county it is in.\n"
     ]
    }
   ],
   "source": [
    "#Tax Value x County Test\n",
    "null_hypothesis = \"There is no correlation between in taxvaluedollarcnt (tax_value) for homes based on which county it is in.\"\n",
    "alternative_hypothesis = \"There is a correlation between in taxvaluedollarcnt (tax_value) for homes based on which county it is in.\"\n",
    "confidence_level = .95\n",
    "alpha = 1 - confidence_level\n",
    "\n",
    "corr, p = stats.pearsonr(train.county_code, train.tax_value)\n",
    "\n",
    "if p < alpha:\n",
    "    print(\"We reject the null hypothesis.\")\n",
    "    print(\"We can move forward with the alternative hypothesis:\", alternative_hypothesis)\n",
    "else:\n",
    "    print(\"We fail to reject the null hypothesis\")\n",
    "    print(\"Not enough evidence to support\", alternative_hypothesis)"
   ]
  },
  {
   "cell_type": "code",
   "execution_count": 42,
   "metadata": {},
   "outputs": [],
   "source": [
    "#t-test on entire train set for county code\n",
    "t, p = stats.ttest_ind(train.tax_value,train.county_code, equal_var=False)"
   ]
  },
  {
   "cell_type": "code",
   "execution_count": 43,
   "metadata": {},
   "outputs": [
    {
     "name": "stdout",
     "output_type": "stream",
     "text": [
      "t= 225.09975738944698\n",
      "p= 0.0\n",
      "alpha= 0.050000000000000044\n"
     ]
    }
   ],
   "source": [
    "t, p, alpha\n",
    "print('t=',t)\n",
    "print('p=',p)\n",
    "print('alpha=',alpha)"
   ]
  },
  {
   "cell_type": "code",
   "execution_count": 44,
   "metadata": {},
   "outputs": [
    {
     "data": {
      "text/plain": [
       "True"
      ]
     },
     "execution_count": 44,
     "metadata": {},
     "output_type": "execute_result"
    }
   ],
   "source": [
    "p <alpha"
   ]
  },
  {
   "cell_type": "markdown",
   "metadata": {},
   "source": [
    "**Explore Takeaways**\n",
    "- Run at least 1 t-test and 1 correlation test \n",
    "    - Tax Value x Square Feet Tests:\n",
    "        - T-tests:\n",
    "            - t= 227.88074069804406\n",
    "            - p= 0.0\n",
    "            - alpha= 0.050000000000000044\n",
    "            - p<alpha = TRUE\n",
    "            \n",
    "        - Correlation test: \n",
    "            - We reject the null hypothesis.\n",
    "            - We can move forward with the alternative hypothesis: There is a correlation between in taxvaluedollarcnt (tax_value) for homes based on which county it is in.\n",
    "    \n",
    "    - Tax Value x County Test\n",
    "         - T-tests:\n",
    "            - t= 225.09975738944698\n",
    "            - p= 0.0\n",
    "            - alpha= 0.050000000000000044\n",
    "            - p<alpha = TRUE\n",
    "              \n",
    "        - Correlation test: \n",
    "            - We reject the null hypothesis.\n",
    "            - We can move forward with the alternative hypothesis: There is a correlation correlation between square feet of the home and its taxvaluedollarcnt (tax_value).\n",
    "\n",
    "- Visualize all combinations of variables in some way(s).\n",
    "    - See above in univariate and bivariate sections"
   ]
  },
  {
   "cell_type": "markdown",
   "metadata": {},
   "source": [
    "___"
   ]
  },
  {
   "cell_type": "markdown",
   "metadata": {},
   "source": [
    "# Modeling"
   ]
  },
  {
   "cell_type": "code",
   "execution_count": 45,
   "metadata": {},
   "outputs": [
    {
     "data": {
      "text/html": [
       "<div>\n",
       "<style scoped>\n",
       "    .dataframe tbody tr th:only-of-type {\n",
       "        vertical-align: middle;\n",
       "    }\n",
       "\n",
       "    .dataframe tbody tr th {\n",
       "        vertical-align: top;\n",
       "    }\n",
       "\n",
       "    .dataframe thead th {\n",
       "        text-align: right;\n",
       "    }\n",
       "</style>\n",
       "<table border=\"1\" class=\"dataframe\">\n",
       "  <thead>\n",
       "    <tr style=\"text-align: right;\">\n",
       "      <th></th>\n",
       "      <th>parcelid</th>\n",
       "      <th>county_code</th>\n",
       "      <th>bedrooms</th>\n",
       "      <th>bathrooms</th>\n",
       "      <th>square_feet</th>\n",
       "    </tr>\n",
       "  </thead>\n",
       "  <tbody>\n",
       "    <tr>\n",
       "      <th>13699</th>\n",
       "      <td>0.025402</td>\n",
       "      <td>0.297297</td>\n",
       "      <td>0.444444</td>\n",
       "      <td>0.466667</td>\n",
       "      <td>0.761786</td>\n",
       "    </tr>\n",
       "    <tr>\n",
       "      <th>23278</th>\n",
       "      <td>0.001353</td>\n",
       "      <td>0.000000</td>\n",
       "      <td>0.333333</td>\n",
       "      <td>0.266667</td>\n",
       "      <td>0.480175</td>\n",
       "    </tr>\n",
       "    <tr>\n",
       "      <th>14085</th>\n",
       "      <td>0.020195</td>\n",
       "      <td>0.297297</td>\n",
       "      <td>0.333333</td>\n",
       "      <td>0.133333</td>\n",
       "      <td>0.274118</td>\n",
       "    </tr>\n",
       "    <tr>\n",
       "      <th>17942</th>\n",
       "      <td>0.006863</td>\n",
       "      <td>0.000000</td>\n",
       "      <td>0.222222</td>\n",
       "      <td>0.266667</td>\n",
       "      <td>0.345926</td>\n",
       "    </tr>\n",
       "    <tr>\n",
       "      <th>35024</th>\n",
       "      <td>0.000590</td>\n",
       "      <td>0.000000</td>\n",
       "      <td>0.222222</td>\n",
       "      <td>0.400000</td>\n",
       "      <td>0.563222</td>\n",
       "    </tr>\n",
       "  </tbody>\n",
       "</table>\n",
       "</div>"
      ],
      "text/plain": [
       "       parcelid  county_code  bedrooms  bathrooms  square_feet\n",
       "13699  0.025402     0.297297  0.444444   0.466667     0.761786\n",
       "23278  0.001353     0.000000  0.333333   0.266667     0.480175\n",
       "14085  0.020195     0.297297  0.333333   0.133333     0.274118\n",
       "17942  0.006863     0.000000  0.222222   0.266667     0.345926\n",
       "35024  0.000590     0.000000  0.222222   0.400000     0.563222"
      ]
     },
     "execution_count": 45,
     "metadata": {},
     "output_type": "execute_result"
    }
   ],
   "source": [
    "# X_train_scaled dataframe\n",
    "X_train_scaled.head()"
   ]
  },
  {
   "cell_type": "code",
   "execution_count": 46,
   "metadata": {},
   "outputs": [],
   "source": [
    "# Baseline\n",
    "# Need to have y_train and y_validate to be dataframes to append the new columns with predicted values. \n",
    "y_train = pd.DataFrame(y_train)\n",
    "y_validate = pd.DataFrame(y_validate)"
   ]
  },
  {
   "cell_type": "code",
   "execution_count": 47,
   "metadata": {},
   "outputs": [],
   "source": [
    "# Predict tax_value_pred_mean\n",
    "\n",
    "#predicted mean will be the mean of tax_value column\n",
    "tax_value_pred_mean = y_train['tax_value'].mean()\n",
    "#new column created\n",
    "y_train['tax_value_pred_mean'] = tax_value_pred_mean\n",
    "y_validate['tax_value_pred_mean'] = tax_value_pred_mean"
   ]
  },
  {
   "cell_type": "code",
   "execution_count": 48,
   "metadata": {},
   "outputs": [
    {
     "data": {
      "text/html": [
       "<div>\n",
       "<style scoped>\n",
       "    .dataframe tbody tr th:only-of-type {\n",
       "        vertical-align: middle;\n",
       "    }\n",
       "\n",
       "    .dataframe tbody tr th {\n",
       "        vertical-align: top;\n",
       "    }\n",
       "\n",
       "    .dataframe thead th {\n",
       "        text-align: right;\n",
       "    }\n",
       "</style>\n",
       "<table border=\"1\" class=\"dataframe\">\n",
       "  <thead>\n",
       "    <tr style=\"text-align: right;\">\n",
       "      <th></th>\n",
       "      <th>tax_value</th>\n",
       "      <th>tax_value_pred_mean</th>\n",
       "    </tr>\n",
       "  </thead>\n",
       "  <tbody>\n",
       "    <tr>\n",
       "      <th>13699</th>\n",
       "      <td>735936</td>\n",
       "      <td>368438.358709</td>\n",
       "    </tr>\n",
       "    <tr>\n",
       "      <th>23278</th>\n",
       "      <td>451786</td>\n",
       "      <td>368438.358709</td>\n",
       "    </tr>\n",
       "    <tr>\n",
       "      <th>14085</th>\n",
       "      <td>388289</td>\n",
       "      <td>368438.358709</td>\n",
       "    </tr>\n",
       "    <tr>\n",
       "      <th>17942</th>\n",
       "      <td>456387</td>\n",
       "      <td>368438.358709</td>\n",
       "    </tr>\n",
       "    <tr>\n",
       "      <th>35024</th>\n",
       "      <td>437299</td>\n",
       "      <td>368438.358709</td>\n",
       "    </tr>\n",
       "  </tbody>\n",
       "</table>\n",
       "</div>"
      ],
      "text/plain": [
       "       tax_value  tax_value_pred_mean\n",
       "13699     735936        368438.358709\n",
       "23278     451786        368438.358709\n",
       "14085     388289        368438.358709\n",
       "17942     456387        368438.358709\n",
       "35024     437299        368438.358709"
      ]
     },
     "execution_count": 48,
     "metadata": {},
     "output_type": "execute_result"
    }
   ],
   "source": [
    "y_train.head()"
   ]
  },
  {
   "cell_type": "code",
   "execution_count": 49,
   "metadata": {},
   "outputs": [
    {
     "name": "stdout",
     "output_type": "stream",
     "text": [
      "RMSE using Mean\n",
      "Train/In-Sample:  224919.94 \n",
      "Validate/Out-of-Sample:  223850.27\n"
     ]
    }
   ],
   "source": [
    "# RMSE of tax_value_pred_mean\n",
    "\n",
    "#root mean squared error of the predicted mean\n",
    "rmse_train = mean_squared_error(y_train.tax_value, y_train.tax_value_pred_mean)**(1/2)\n",
    "rmse_validate = mean_squared_error(y_validate.tax_value, y_validate.tax_value_pred_mean)**(1/2)\n",
    "print(\"RMSE using Mean\\nTrain/In-Sample: \", round(rmse_train, 2), \n",
    "      \"\\nValidate/Out-of-Sample: \", round(rmse_validate, 2))"
   ]
  },
  {
   "cell_type": "code",
   "execution_count": 50,
   "metadata": {},
   "outputs": [
    {
     "data": {
      "text/html": [
       "<div>\n",
       "<style scoped>\n",
       "    .dataframe tbody tr th:only-of-type {\n",
       "        vertical-align: middle;\n",
       "    }\n",
       "\n",
       "    .dataframe tbody tr th {\n",
       "        vertical-align: top;\n",
       "    }\n",
       "\n",
       "    .dataframe thead th {\n",
       "        text-align: right;\n",
       "    }\n",
       "</style>\n",
       "<table border=\"1\" class=\"dataframe\">\n",
       "  <thead>\n",
       "    <tr style=\"text-align: right;\">\n",
       "      <th></th>\n",
       "      <th>model</th>\n",
       "      <th>rmse_train</th>\n",
       "      <th>rmse_validate</th>\n",
       "      <th>r^2_validate</th>\n",
       "    </tr>\n",
       "  </thead>\n",
       "  <tbody>\n",
       "    <tr>\n",
       "      <th>0</th>\n",
       "      <td>mean_baseline</td>\n",
       "      <td>224919.940632</td>\n",
       "      <td>223850.268185</td>\n",
       "      <td>0.0</td>\n",
       "    </tr>\n",
       "  </tbody>\n",
       "</table>\n",
       "</div>"
      ],
      "text/plain": [
       "           model     rmse_train  rmse_validate  r^2_validate\n",
       "0  mean_baseline  224919.940632  223850.268185           0.0"
      ]
     },
     "execution_count": 50,
     "metadata": {},
     "output_type": "execute_result"
    }
   ],
   "source": [
    "#create a dataframe to make data easier to visualize/understand\n",
    "metric_df = pd.DataFrame(data=[{\n",
    "    'model': 'mean_baseline',\n",
    "    'rmse_train': rmse_train,\n",
    "    'rmse_validate': rmse_validate,\n",
    "    'r^2_validate': explained_variance_score(y_validate.tax_value, y_validate.tax_value_pred_mean)}])\n",
    "\n",
    "metric_df\n",
    "# baseline"
   ]
  },
  {
   "cell_type": "code",
   "execution_count": 51,
   "metadata": {},
   "outputs": [],
   "source": [
    "y_train = pd.DataFrame(y_train)\n",
    "y_validate = pd.DataFrame(y_validate)\n",
    "\n",
    "#Predict mean of tax_value\n",
    "tax_value_pred_mean = y_train.tax_value.mean()\n",
    "y_train['tax_value_pred_mean'] = tax_value_pred_mean\n",
    "y_validate['tax_value_pred_mean'] = tax_value_pred_mean\n",
    "\n",
    "#Compute tax_value_pred_median\n",
    "tax_value_pred_median = y_train.tax_value.median()\n",
    "y_train['tax_value_pred_median'] = tax_value_pred_median\n",
    "y_validate['tax_value_pred_median'] = tax_value_pred_median"
   ]
  },
  {
   "cell_type": "code",
   "execution_count": 52,
   "metadata": {},
   "outputs": [],
   "source": [
    "import model"
   ]
  },
  {
   "cell_type": "code",
   "execution_count": 53,
   "metadata": {},
   "outputs": [
    {
     "data": {
      "text/plain": [
       "{'sse': 987496883628750.2,\n",
       " 'mse': 50588979694.09581,\n",
       " 'rmse': 224919.94063242993}"
      ]
     },
     "execution_count": 53,
     "metadata": {},
     "output_type": "execute_result"
    }
   ],
   "source": [
    "#Use the mean to evaluate baseline model\n",
    "model.evaluation_metrics_mean(y_train.tax_value)"
   ]
  },
  {
   "cell_type": "code",
   "execution_count": 54,
   "metadata": {},
   "outputs": [
    {
     "data": {
      "text/plain": [
       "Index(['parcelid', 'county_code', 'bedrooms', 'bathrooms', 'square_feet',\n",
       "       'tax_value'],\n",
       "      dtype='object')"
      ]
     },
     "execution_count": 54,
     "metadata": {},
     "output_type": "execute_result"
    }
   ],
   "source": [
    "# before drop of target variable \n",
    "train.columns"
   ]
  },
  {
   "cell_type": "code",
   "execution_count": 55,
   "metadata": {},
   "outputs": [],
   "source": [
    "# dropping target variable 'tax_value' from the train data set\n",
    "train = train.drop(columns=['tax_value'])"
   ]
  },
  {
   "cell_type": "code",
   "execution_count": 56,
   "metadata": {},
   "outputs": [
    {
     "data": {
      "text/plain": [
       "Index(['parcelid', 'county_code', 'bedrooms', 'bathrooms', 'square_feet'], dtype='object')"
      ]
     },
     "execution_count": 56,
     "metadata": {},
     "output_type": "execute_result"
    }
   ],
   "source": [
    "# the target variable 'tax_value' is no longer within the train columns\n",
    "train.columns"
   ]
  },
  {
   "cell_type": "code",
   "execution_count": 57,
   "metadata": {},
   "outputs": [
    {
     "name": "stdout",
     "output_type": "stream",
     "text": [
      "<class 'pandas.core.frame.DataFrame'>\n",
      "Int64Index: 19520 entries, 13699 to 29467\n",
      "Data columns (total 5 columns):\n",
      " #   Column       Non-Null Count  Dtype  \n",
      "---  ------       --------------  -----  \n",
      " 0   parcelid     19520 non-null  int64  \n",
      " 1   county_code  19520 non-null  float64\n",
      " 2   bedrooms     19520 non-null  int64  \n",
      " 3   bathrooms    19520 non-null  float64\n",
      " 4   square_feet  19520 non-null  int64  \n",
      "dtypes: float64(2), int64(3)\n",
      "memory usage: 1.5 MB\n"
     ]
    }
   ],
   "source": [
    "# need to convert floats to into int\n",
    "train.info()"
   ]
  },
  {
   "cell_type": "code",
   "execution_count": 58,
   "metadata": {},
   "outputs": [
    {
     "data": {
      "text/plain": [
       "pandas.core.frame.DataFrame"
      ]
     },
     "execution_count": 58,
     "metadata": {},
     "output_type": "execute_result"
    }
   ],
   "source": [
    "type(train)"
   ]
  },
  {
   "cell_type": "code",
   "execution_count": 59,
   "metadata": {},
   "outputs": [],
   "source": [
    "# need to convert floats to into int\n",
    "train['county_code'] = train['county_code'].astype(int)\n",
    "train['bathrooms'] = train['bathrooms'].astype(int)"
   ]
  },
  {
   "cell_type": "code",
   "execution_count": 60,
   "metadata": {},
   "outputs": [
    {
     "name": "stdout",
     "output_type": "stream",
     "text": [
      "<class 'pandas.core.frame.DataFrame'>\n",
      "Int64Index: 19520 entries, 13699 to 29467\n",
      "Data columns (total 5 columns):\n",
      " #   Column       Non-Null Count  Dtype\n",
      "---  ------       --------------  -----\n",
      " 0   parcelid     19520 non-null  int64\n",
      " 1   county_code  19520 non-null  int64\n",
      " 2   bedrooms     19520 non-null  int64\n",
      " 3   bathrooms    19520 non-null  int64\n",
      " 4   square_feet  19520 non-null  int64\n",
      "dtypes: int64(5)\n",
      "memory usage: 1.5 MB\n"
     ]
    }
   ],
   "source": [
    "# now everything in train dataframe is a int\n",
    "train.info()"
   ]
  },
  {
   "cell_type": "code",
   "execution_count": 61,
   "metadata": {},
   "outputs": [],
   "source": [
    "train_features =  'county_code', 'bedrooms', 'bathrooms', 'square_feet'"
   ]
  },
  {
   "cell_type": "code",
   "execution_count": 62,
   "metadata": {},
   "outputs": [
    {
     "data": {
      "text/plain": [
       "str"
      ]
     },
     "execution_count": 62,
     "metadata": {},
     "output_type": "execute_result"
    }
   ],
   "source": [
    "type('county_code')"
   ]
  },
  {
   "cell_type": "code",
   "execution_count": 63,
   "metadata": {},
   "outputs": [
    {
     "data": {
      "text/plain": [
       "(19520, 3)"
      ]
     },
     "execution_count": 63,
     "metadata": {},
     "output_type": "execute_result"
    }
   ],
   "source": [
    "y_train.shape"
   ]
  },
  {
   "cell_type": "code",
   "execution_count": 64,
   "metadata": {},
   "outputs": [
    {
     "data": {
      "text/plain": [
       "Index(['tax_value', 'tax_value_pred_mean', 'tax_value_pred_median'], dtype='object')"
      ]
     },
     "execution_count": 64,
     "metadata": {},
     "output_type": "execute_result"
    }
   ],
   "source": [
    "y_train.columns"
   ]
  },
  {
   "cell_type": "markdown",
   "metadata": {},
   "source": [
    "**Tweedie Regressor Model**"
   ]
  },
  {
   "cell_type": "code",
   "execution_count": 65,
   "metadata": {},
   "outputs": [
    {
     "name": "stdout",
     "output_type": "stream",
     "text": [
      "RMSE for GLM using Tweedie, power=1 & alpha=0\n",
      "Training/In-Sample:  197709.1975278537 \n",
      "Validation/Out-of-Sample:  198526.69296195515\n"
     ]
    }
   ],
   "source": [
    "# create the model object\n",
    "glm = TweedieRegressor(power=1, alpha=0)\n",
    "\n",
    "\n",
    "# fit the model to our training data. We must specify the column in y_train, \n",
    "# convert to a dataframe from a series \n",
    "glm.fit(X_train_scaled, y_train.tax_value)\n",
    "\n",
    "# predict train\n",
    "y_train['tax_value_pred_glm'] = glm.predict(X_train_scaled)\n",
    "\n",
    "# evaluate: rmse\n",
    "rmse_train = mean_squared_error(y_train.tax_value, y_train.tax_value_pred_glm) ** (1/2)\n",
    "\n",
    "# predict validate\n",
    "y_validate['tax_value_pred_glm'] = glm.predict(X_validate_scaled)\n",
    "\n",
    "# evaluate: rmse\n",
    "rmse_validate = mean_squared_error(y_validate.tax_value, y_validate.tax_value_pred_glm) ** (1/2)\n",
    "\n",
    "print(\"RMSE for GLM using Tweedie, power=1 & alpha=0\\nTraining/In-Sample: \", rmse_train, \n",
    "      \"\\nValidation/Out-of-Sample: \", rmse_validate)"
   ]
  },
  {
   "cell_type": "markdown",
   "metadata": {},
   "source": [
    "**OLS Model**"
   ]
  },
  {
   "cell_type": "code",
   "execution_count": 66,
   "metadata": {},
   "outputs": [
    {
     "name": "stdout",
     "output_type": "stream",
     "text": [
      "RMSE for OLS using LinearRegression\n",
      "Training/In-Sample:  197093.32337567734 \n",
      "Validation/Out-of-Sample:  197592.03382367056\n"
     ]
    }
   ],
   "source": [
    "# create the model object\n",
    "lm = LinearRegression(normalize=True)\n",
    "\n",
    "# fit the model to our training data. We must specify the column in y_train, \n",
    "# convert to a dataframe from a series \n",
    "lm.fit(X_train_scaled, y_train.tax_value)\n",
    "\n",
    "\n",
    "# predict train\n",
    "y_train['tax_value_pred_lm'] = lm.predict(X_train_scaled)\n",
    "\n",
    "# evaluate: rmse\n",
    "rmse_train = mean_squared_error(y_train.tax_value, y_train.tax_value_pred_lm) ** (1/2)\n",
    "\n",
    "\n",
    "# predict validate\n",
    "y_validate['tax_value_pred_lm'] = lm.predict(X_validate_scaled)\n",
    "\n",
    "# evaluate: rmse\n",
    "rmse_validate = mean_squared_error(y_validate.tax_value, y_validate.tax_value_pred_lm) ** (1/2)\n",
    "\n",
    "print(\"RMSE for OLS using LinearRegression\\nTraining/In-Sample: \", rmse_train, \n",
    "      \"\\nValidation/Out-of-Sample: \", rmse_validate)"
   ]
  },
  {
   "cell_type": "markdown",
   "metadata": {},
   "source": [
    "**Polynomial Regression**"
   ]
  },
  {
   "cell_type": "code",
   "execution_count": 67,
   "metadata": {},
   "outputs": [
    {
     "name": "stdout",
     "output_type": "stream",
     "text": [
      "RMSE for Polynomial Model, degrees=2\n",
      "Training/In-Sample:  197093.32337567734 \n",
      "Validation/Out-of-Sample:  39042611830.57457\n"
     ]
    }
   ],
   "source": [
    "# make the polynomial features to get a new set of features\n",
    "pf = PolynomialFeatures(degree=2)\n",
    "\n",
    "# fit and transform X_train_scaled\n",
    "X_train_degree2 = pf.fit_transform(X_train_scaled)\n",
    "\n",
    "# transform X_validate_scaled & X_test_scaled\n",
    "X_validate_degree2 = pf.transform(X_validate_scaled)\n",
    "X_test_degree2 =  pf.transform(X_test_scaled)\n",
    "\n",
    "\n",
    "## LinearRegression ##\n",
    "# create the model object\n",
    "lm2 = LinearRegression(normalize=True)\n",
    "\n",
    "# fit the model to our training data. We must specify the column in y_train, \n",
    "# convert to a dataframe from a series \n",
    "lm2.fit(X_train_scaled, y_train.tax_value)\n",
    "\n",
    "# predict train\n",
    "y_train['tax_value_pred_lm2'] = lm2.predict(X_train_scaled)\n",
    "\n",
    "# evaluate: rmse\n",
    "rmse_train = mean_squared_error(y_train.tax_value, y_train.tax_value_pred_lm2) ** (1/2)\n",
    "\n",
    "# predict validate\n",
    "y_validate['tax_value_pred_lm2'] = lm2.predict(X_validate_scaled)\n",
    "\n",
    "# evaluate: rmse\n",
    "rmse_validate = mean_squared_error(y_validate.tax_value, y_validate.tax_value_pred_lm2)\n",
    "\n",
    "print(\"RMSE for Polynomial Model, degrees=2\\nTraining/In-Sample: \", rmse_train, \n",
    "      \"\\nValidation/Out-of-Sample: \", rmse_validate)"
   ]
  },
  {
   "cell_type": "markdown",
   "metadata": {},
   "source": [
    "**Takeaways**\n",
    "- "
   ]
  },
  {
   "cell_type": "markdown",
   "metadata": {},
   "source": [
    "- Tweedie Regressor Model performed the best, but a bit too well, looks like an overfit situation\n",
    "- OLS overall fit well, performing worse than Tweedie - but not overfit which makes the OLS model better than Tweedie\n",
    "- Polynomial Regression performed the worse \n",
    "\n",
    "**- Taking the OLS model to work with the test data**"
   ]
  },
  {
   "cell_type": "markdown",
   "metadata": {},
   "source": [
    "# Model Findings"
   ]
  },
  {
   "cell_type": "code",
   "execution_count": 68,
   "metadata": {},
   "outputs": [
    {
     "name": "stdout",
     "output_type": "stream",
     "text": [
      "RMSE for OLS Model using LinearRegression\n",
      "Out-of-Sample Performance:  198768.86256560206\n"
     ]
    }
   ],
   "source": [
    "#out of sample evaluation\n",
    "y_test = pd.DataFrame(y_test)\n",
    "\n",
    "# predict on test\n",
    "y_test['tax_value_pred_lm'] = lm.predict(X_test_scaled)\n",
    "\n",
    "# evaluate: rmse\n",
    "rmse_test = mean_squared_error(y_test.tax_value, y_test.tax_value_pred_lm) ** (1/2)\n",
    "\n",
    "print(\"RMSE for OLS Model using LinearRegression\\nOut-of-Sample Performance: \", rmse_test)"
   ]
  },
  {
   "cell_type": "markdown",
   "metadata": {},
   "source": [
    "# County Tax Rates"
   ]
  },
  {
   "cell_type": "code",
   "execution_count": 69,
   "metadata": {},
   "outputs": [
    {
     "data": {
      "text/plain": [
       "array([6059., 6037., 6111.])"
      ]
     },
     "execution_count": 69,
     "metadata": {},
     "output_type": "execute_result"
    }
   ],
   "source": [
    "# shows all unique county numbers within df\n",
    "df.county_code.unique()"
   ]
  },
  {
   "cell_type": "code",
   "execution_count": 70,
   "metadata": {},
   "outputs": [
    {
     "data": {
      "text/plain": [
       "6037.0    21768\n",
       "6059.0     9930\n",
       "6111.0     3160\n",
       "Name: county_code, dtype: int64"
      ]
     },
     "execution_count": 70,
     "metadata": {},
     "output_type": "execute_result"
    }
   ],
   "source": [
    "#number of homes per county\n",
    "df['county_code'].value_counts()"
   ]
  },
  {
   "cell_type": "code",
   "execution_count": 71,
   "metadata": {},
   "outputs": [],
   "source": [
    "final_df = prep.get_zillow_data()"
   ]
  },
  {
   "cell_type": "code",
   "execution_count": 72,
   "metadata": {},
   "outputs": [],
   "source": [
    "final_df = prep.clean_zillow(final_df)"
   ]
  },
  {
   "cell_type": "code",
   "execution_count": 73,
   "metadata": {},
   "outputs": [
    {
     "data": {
      "text/html": [
       "<div>\n",
       "<style scoped>\n",
       "    .dataframe tbody tr th:only-of-type {\n",
       "        vertical-align: middle;\n",
       "    }\n",
       "\n",
       "    .dataframe tbody tr th {\n",
       "        vertical-align: top;\n",
       "    }\n",
       "\n",
       "    .dataframe thead th {\n",
       "        text-align: right;\n",
       "    }\n",
       "</style>\n",
       "<table border=\"1\" class=\"dataframe\">\n",
       "  <thead>\n",
       "    <tr style=\"text-align: right;\">\n",
       "      <th></th>\n",
       "      <th>parcelid</th>\n",
       "      <th>county_code</th>\n",
       "      <th>bedrooms</th>\n",
       "      <th>bathrooms</th>\n",
       "      <th>square_feet</th>\n",
       "      <th>tax_value</th>\n",
       "      <th>taxes</th>\n",
       "      <th>tax_rate</th>\n",
       "    </tr>\n",
       "  </thead>\n",
       "  <tbody>\n",
       "    <tr>\n",
       "      <th>0</th>\n",
       "      <td>14634203</td>\n",
       "      <td>6059.0</td>\n",
       "      <td>3</td>\n",
       "      <td>2.0</td>\n",
       "      <td>1125</td>\n",
       "      <td>289445</td>\n",
       "      <td>3490.16</td>\n",
       "      <td>1.21</td>\n",
       "    </tr>\n",
       "    <tr>\n",
       "      <th>1</th>\n",
       "      <td>11721753</td>\n",
       "      <td>6037.0</td>\n",
       "      <td>3</td>\n",
       "      <td>2.0</td>\n",
       "      <td>1316</td>\n",
       "      <td>205123</td>\n",
       "      <td>2627.48</td>\n",
       "      <td>1.28</td>\n",
       "    </tr>\n",
       "    <tr>\n",
       "      <th>2</th>\n",
       "      <td>11289917</td>\n",
       "      <td>6037.0</td>\n",
       "      <td>3</td>\n",
       "      <td>2.0</td>\n",
       "      <td>1458</td>\n",
       "      <td>136104</td>\n",
       "      <td>2319.90</td>\n",
       "      <td>1.70</td>\n",
       "    </tr>\n",
       "    <tr>\n",
       "      <th>3</th>\n",
       "      <td>11637029</td>\n",
       "      <td>6037.0</td>\n",
       "      <td>3</td>\n",
       "      <td>2.0</td>\n",
       "      <td>1766</td>\n",
       "      <td>810694</td>\n",
       "      <td>9407.01</td>\n",
       "      <td>1.16</td>\n",
       "    </tr>\n",
       "    <tr>\n",
       "      <th>4</th>\n",
       "      <td>11705026</td>\n",
       "      <td>6037.0</td>\n",
       "      <td>2</td>\n",
       "      <td>1.0</td>\n",
       "      <td>1421</td>\n",
       "      <td>35606</td>\n",
       "      <td>543.69</td>\n",
       "      <td>1.53</td>\n",
       "    </tr>\n",
       "  </tbody>\n",
       "</table>\n",
       "</div>"
      ],
      "text/plain": [
       "   parcelid  county_code  bedrooms  bathrooms  square_feet  tax_value  \\\n",
       "0  14634203       6059.0         3        2.0         1125     289445   \n",
       "1  11721753       6037.0         3        2.0         1316     205123   \n",
       "2  11289917       6037.0         3        2.0         1458     136104   \n",
       "3  11637029       6037.0         3        2.0         1766     810694   \n",
       "4  11705026       6037.0         2        1.0         1421      35606   \n",
       "\n",
       "     taxes  tax_rate  \n",
       "0  3490.16      1.21  \n",
       "1  2627.48      1.28  \n",
       "2  2319.90      1.70  \n",
       "3  9407.01      1.16  \n",
       "4   543.69      1.53  "
      ]
     },
     "execution_count": 73,
     "metadata": {},
     "output_type": "execute_result"
    }
   ],
   "source": [
    "final_df.head()"
   ]
  },
  {
   "cell_type": "code",
   "execution_count": 74,
   "metadata": {},
   "outputs": [
    {
     "name": "stdout",
     "output_type": "stream",
     "text": [
      "<class 'pandas.core.frame.DataFrame'>\n",
      "Int64Index: 34858 entries, 0 to 38621\n",
      "Data columns (total 8 columns):\n",
      " #   Column       Non-Null Count  Dtype  \n",
      "---  ------       --------------  -----  \n",
      " 0   parcelid     34858 non-null  int64  \n",
      " 1   county_code  34858 non-null  float64\n",
      " 2   bedrooms     34858 non-null  int64  \n",
      " 3   bathrooms    34858 non-null  float64\n",
      " 4   square_feet  34858 non-null  int64  \n",
      " 5   tax_value    34858 non-null  int64  \n",
      " 6   taxes        34858 non-null  float64\n",
      " 7   tax_rate     34858 non-null  float64\n",
      "dtypes: float64(4), int64(4)\n",
      "memory usage: 2.4 MB\n"
     ]
    }
   ],
   "source": [
    "final_df.info()"
   ]
  },
  {
   "cell_type": "code",
   "execution_count": 75,
   "metadata": {},
   "outputs": [],
   "source": [
    "#turn county code into a string\n",
    "final_df['county_code'] = final_df['county_code'].astype(str)\n",
    "\n",
    "#if county code has a 6 as the first number, create column called state and add california\n",
    "final_df.loc[final_df['county_code'].str[0] == '6', 'state'] = 'California'\n",
    "\n",
    "#if county code contrains 111, create column called county and add ventura\n",
    "final_df.loc[final_df['county_code'].str.contains('111'), 'county'] = 'Ventura'\n",
    "\n",
    "#if county code contrains 037, create column called county and add los angeles\n",
    "final_df.loc[final_df['county_code'].str.contains('037'), 'county'] = 'Los Angeles'\n",
    "\n",
    "#if county code contrains 059, create column called county and add orange\n",
    "final_df.loc[final_df['county_code'].str.contains('059'), 'county'] = 'Orange'\n",
    "\n",
    "#change dtype back to float\n",
    "final_df['county_code'] = final_df['county_code'].astype(float)"
   ]
  },
  {
   "cell_type": "code",
   "execution_count": 76,
   "metadata": {},
   "outputs": [
    {
     "name": "stdout",
     "output_type": "stream",
     "text": [
      "<class 'pandas.core.frame.DataFrame'>\n",
      "Int64Index: 34858 entries, 0 to 38621\n",
      "Data columns (total 10 columns):\n",
      " #   Column       Non-Null Count  Dtype  \n",
      "---  ------       --------------  -----  \n",
      " 0   parcelid     34858 non-null  int64  \n",
      " 1   county_code  34858 non-null  float64\n",
      " 2   bedrooms     34858 non-null  int64  \n",
      " 3   bathrooms    34858 non-null  float64\n",
      " 4   square_feet  34858 non-null  int64  \n",
      " 5   tax_value    34858 non-null  int64  \n",
      " 6   taxes        34858 non-null  float64\n",
      " 7   tax_rate     34858 non-null  float64\n",
      " 8   state        34858 non-null  object \n",
      " 9   county       34858 non-null  object \n",
      "dtypes: float64(4), int64(4), object(2)\n",
      "memory usage: 2.9+ MB\n"
     ]
    }
   ],
   "source": [
    "final_df.info()"
   ]
  },
  {
   "cell_type": "code",
   "execution_count": 77,
   "metadata": {},
   "outputs": [],
   "source": [
    "# drop values so we can convert to strings\n",
    "final_df = final_df.drop(columns=['bedrooms','bathrooms','square_feet', 'tax_value', 'taxes'])"
   ]
  },
  {
   "cell_type": "code",
   "execution_count": 78,
   "metadata": {},
   "outputs": [
    {
     "name": "stdout",
     "output_type": "stream",
     "text": [
      "<class 'pandas.core.frame.DataFrame'>\n",
      "Int64Index: 34858 entries, 0 to 38621\n",
      "Data columns (total 5 columns):\n",
      " #   Column       Non-Null Count  Dtype  \n",
      "---  ------       --------------  -----  \n",
      " 0   parcelid     34858 non-null  int64  \n",
      " 1   county_code  34858 non-null  float64\n",
      " 2   tax_rate     34858 non-null  float64\n",
      " 3   state        34858 non-null  object \n",
      " 4   county       34858 non-null  object \n",
      "dtypes: float64(2), int64(1), object(2)\n",
      "memory usage: 1.6+ MB\n"
     ]
    }
   ],
   "source": [
    "final_df.info()"
   ]
  },
  {
   "cell_type": "code",
   "execution_count": 79,
   "metadata": {},
   "outputs": [
    {
     "data": {
      "text/html": [
       "<div>\n",
       "<style scoped>\n",
       "    .dataframe tbody tr th:only-of-type {\n",
       "        vertical-align: middle;\n",
       "    }\n",
       "\n",
       "    .dataframe tbody tr th {\n",
       "        vertical-align: top;\n",
       "    }\n",
       "\n",
       "    .dataframe thead th {\n",
       "        text-align: right;\n",
       "    }\n",
       "</style>\n",
       "<table border=\"1\" class=\"dataframe\">\n",
       "  <thead>\n",
       "    <tr style=\"text-align: right;\">\n",
       "      <th></th>\n",
       "      <th>parcelid</th>\n",
       "      <th>county_code</th>\n",
       "      <th>tax_rate</th>\n",
       "      <th>state</th>\n",
       "      <th>county</th>\n",
       "    </tr>\n",
       "  </thead>\n",
       "  <tbody>\n",
       "    <tr>\n",
       "      <th>0</th>\n",
       "      <td>14634203</td>\n",
       "      <td>6059.0</td>\n",
       "      <td>1.21</td>\n",
       "      <td>California</td>\n",
       "      <td>Orange</td>\n",
       "    </tr>\n",
       "    <tr>\n",
       "      <th>1</th>\n",
       "      <td>11721753</td>\n",
       "      <td>6037.0</td>\n",
       "      <td>1.28</td>\n",
       "      <td>California</td>\n",
       "      <td>Los Angeles</td>\n",
       "    </tr>\n",
       "    <tr>\n",
       "      <th>2</th>\n",
       "      <td>11289917</td>\n",
       "      <td>6037.0</td>\n",
       "      <td>1.70</td>\n",
       "      <td>California</td>\n",
       "      <td>Los Angeles</td>\n",
       "    </tr>\n",
       "    <tr>\n",
       "      <th>3</th>\n",
       "      <td>11637029</td>\n",
       "      <td>6037.0</td>\n",
       "      <td>1.16</td>\n",
       "      <td>California</td>\n",
       "      <td>Los Angeles</td>\n",
       "    </tr>\n",
       "    <tr>\n",
       "      <th>4</th>\n",
       "      <td>11705026</td>\n",
       "      <td>6037.0</td>\n",
       "      <td>1.53</td>\n",
       "      <td>California</td>\n",
       "      <td>Los Angeles</td>\n",
       "    </tr>\n",
       "  </tbody>\n",
       "</table>\n",
       "</div>"
      ],
      "text/plain": [
       "   parcelid  county_code  tax_rate       state       county\n",
       "0  14634203       6059.0      1.21  California       Orange\n",
       "1  11721753       6037.0      1.28  California  Los Angeles\n",
       "2  11289917       6037.0      1.70  California  Los Angeles\n",
       "3  11637029       6037.0      1.16  California  Los Angeles\n",
       "4  11705026       6037.0      1.53  California  Los Angeles"
      ]
     },
     "execution_count": 79,
     "metadata": {},
     "output_type": "execute_result"
    }
   ],
   "source": [
    "df_rates_county = final_df[['parcelid', 'county_code','county', 'state', 'tax_rate']]\n",
    "final_df.head()"
   ]
  },
  {
   "cell_type": "code",
   "execution_count": 80,
   "metadata": {},
   "outputs": [],
   "source": [
    "df_rates_county.to_csv('rates_and_county.csv')"
   ]
  },
  {
   "cell_type": "code",
   "execution_count": 89,
   "metadata": {},
   "outputs": [
    {
     "name": "stdout",
     "output_type": "stream",
     "text": [
      "<class 'pandas.core.frame.DataFrame'>\n",
      "Int64Index: 34858 entries, 0 to 38621\n",
      "Data columns (total 5 columns):\n",
      " #   Column       Non-Null Count  Dtype  \n",
      "---  ------       --------------  -----  \n",
      " 0   parcelid     34858 non-null  int64  \n",
      " 1   county_code  34858 non-null  float64\n",
      " 2   county       34858 non-null  object \n",
      " 3   state        34858 non-null  object \n",
      " 4   tax_rate     34858 non-null  float64\n",
      "dtypes: float64(2), int64(1), object(2)\n",
      "memory usage: 1.6+ MB\n"
     ]
    }
   ],
   "source": [
    "df_rates_county.info()"
   ]
  },
  {
   "cell_type": "code",
   "execution_count": 81,
   "metadata": {},
   "outputs": [
    {
     "data": {
      "text/plain": [
       "county_code\n",
       "6037.0    1.387595\n",
       "6059.0    1.210876\n",
       "6111.0    1.193272\n",
       "Name: tax_rate, dtype: float64"
      ]
     },
     "execution_count": 81,
     "metadata": {},
     "output_type": "execute_result"
    }
   ],
   "source": [
    "# average tax rate per county\n",
    "average_tax_rate = final_df.groupby('county_code')['tax_rate'].mean()\n",
    "average_tax_rate"
   ]
  },
  {
   "cell_type": "code",
   "execution_count": 82,
   "metadata": {},
   "outputs": [],
   "source": [
    "average_tax_rate.to_csv('average_tax_rate_by_county.csv')"
   ]
  },
  {
   "cell_type": "code",
   "execution_count": 83,
   "metadata": {},
   "outputs": [
    {
     "data": {
      "text/plain": [
       "county\n",
       "Los Angeles    1.387595\n",
       "Orange         1.210876\n",
       "Ventura        1.193272\n",
       "Name: tax_rate, dtype: float64"
      ]
     },
     "execution_count": 83,
     "metadata": {},
     "output_type": "execute_result"
    }
   ],
   "source": [
    "average_tax_rate_final = final_df.groupby('county')['tax_rate'].mean()\n",
    "average_tax_rate_final"
   ]
  },
  {
   "cell_type": "markdown",
   "metadata": {},
   "source": [
    "- fibs link from unique fibs: \n",
    "    - https://transition.fcc.gov/oet/info/maps/census/fips/fips.txt\n",
    "- 6037\n",
    "    - Los Angeles County\n",
    "- 6059\n",
    "    - Orange County\n",
    "- 6111\n",
    "    - Ventura County"
   ]
  },
  {
   "cell_type": "code",
   "execution_count": 84,
   "metadata": {},
   "outputs": [
    {
     "name": "stdout",
     "output_type": "stream",
     "text": [
      "<class 'pandas.core.frame.DataFrame'>\n",
      "Int64Index: 34858 entries, 0 to 38621\n",
      "Data columns (total 6 columns):\n",
      " #   Column       Non-Null Count  Dtype  \n",
      "---  ------       --------------  -----  \n",
      " 0   parcelid     34858 non-null  int64  \n",
      " 1   county_code  34858 non-null  float64\n",
      " 2   bedrooms     34858 non-null  int64  \n",
      " 3   bathrooms    34858 non-null  float64\n",
      " 4   square_feet  34858 non-null  int64  \n",
      " 5   tax_value    34858 non-null  int64  \n",
      "dtypes: float64(2), int64(4)\n",
      "memory usage: 1.9 MB\n"
     ]
    }
   ],
   "source": [
    "df.info()"
   ]
  },
  {
   "cell_type": "code",
   "execution_count": 85,
   "metadata": {},
   "outputs": [
    {
     "data": {
      "image/png": "[encoded data removed]",
      "text/plain": [
       "<Figure size 432x288 with 1 Axes>"
      ]
     },
     "metadata": {
      "needs_background": "light"
     },
     "output_type": "display_data"
    }
   ],
   "source": [
    "sns.histplot(df, x=\"tax_value\", hue=\"bathrooms\").set_title('bathroom value counts with tax value')\n",
    "plt.show()"
   ]
  },
  {
   "cell_type": "code",
   "execution_count": 86,
   "metadata": {},
   "outputs": [
    {
     "data": {
      "image/png": "[encoded data removed]",
      "text/plain": [
       "<Figure size 432x288 with 1 Axes>"
      ]
     },
     "metadata": {
      "needs_background": "light"
     },
     "output_type": "display_data"
    }
   ],
   "source": [
    "sns.histplot(df, x=\"tax_value\", hue=\"bedrooms\").set_title('bedroom value counts with tax value')\n",
    "plt.show()"
   ]
  },
  {
   "cell_type": "code",
   "execution_count": 87,
   "metadata": {},
   "outputs": [
    {
     "data": {
      "image/png": "[encoded data removed]",
      "text/plain": [
       "<Figure size 432x288 with 1 Axes>"
      ]
     },
     "metadata": {
      "needs_background": "light"
     },
     "output_type": "display_data"
    }
   ],
   "source": [
    "#county_code value counts with tax value\n",
    "sns.histplot(df, x=\"tax_value\", hue=\"county_code\").set_title('county_code value counts with tax value')\n",
    "plt.show()"
   ]
  },
  {
   "cell_type": "code",
   "execution_count": 88,
   "metadata": {},
   "outputs": [
    {
     "data": {
      "image/png": "[encoded data removed]",
      "text/plain": [
       "<Figure size 432x288 with 1 Axes>"
      ]
     },
     "metadata": {
      "needs_background": "light"
     },
     "output_type": "display_data"
    }
   ],
   "source": [
    "#distribution of tax_value target \n",
    "sns.histplot(data=y_train.tax_value, kde = True, color='thistle')\n",
    "plt.title('Distribution of tax_value')\n",
    "plt.show()"
   ]
  },
  {
   "cell_type": "code",
   "execution_count": null,
   "metadata": {},
   "outputs": [],
   "source": []
  }
 ],
 "metadata": {
  "kernelspec": {
   "display_name": "Python 3",
   "language": "python",
   "name": "python3"
  },
  "language_info": {
   "codemirror_mode": {
    "name": "ipython",
    "version": 3
   },
   "file_extension": ".py",
   "mimetype": "text/x-python",
   "name": "python",
   "nbconvert_exporter": "python",
   "pygments_lexer": "ipython3",
   "version": "3.8.5"
  }
 },
 "nbformat": 4,
 "nbformat_minor": 4
}
